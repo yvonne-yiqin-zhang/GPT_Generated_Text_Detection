{
 "cells": [
  {
   "cell_type": "markdown",
   "metadata": {},
   "source": [
    "# Download dataset and store"
   ]
  },
  {
   "cell_type": "code",
   "execution_count": 3,
   "metadata": {},
   "outputs": [],
   "source": [
    "from datasets import load_dataset\n",
    "import random\n",
    "import pandas as pd\n",
    "import re"
   ]
  },
  {
   "cell_type": "code",
   "execution_count": 2,
   "metadata": {},
   "outputs": [
    {
     "name": "stdout",
     "output_type": "stream",
     "text": [
      "DatasetDict({\n",
      "    train: Dataset({\n",
      "        features: ['id', 'url', 'title', 'wiki_intro', 'generated_intro', 'title_len', 'wiki_intro_len', 'generated_intro_len', 'prompt', 'generated_text', 'prompt_tokens', 'generated_text_tokens'],\n",
      "        num_rows: 150000\n",
      "    })\n",
      "})\n"
     ]
    }
   ],
   "source": [
    "origin_data = load_dataset('aadityaubhat/GPT-wiki-intro')\n",
    "print(origin_data)"
   ]
  },
  {
   "cell_type": "code",
   "execution_count": 4,
   "metadata": {},
   "outputs": [],
   "source": [
    "def format_sentence(sentence):\n",
    "    sentence = sentence.replace('\\n', ' ')\n",
    "    sentence = sentence.replace('\\t', ' ')\n",
    "    sentence = sentence.replace('\\r', ' ')\n",
    "    \n",
    "    sentence = sentence.lower()\n",
    "    sentence = sentence.strip()\n",
    "    \n",
    "    emoji_pattern = re.compile(\"[\"\n",
    "                        u\"\\U0001F600-\\U0001F64F\"  # emoticons\n",
    "                        u\"\\U0001F300-\\U0001F5FF\"  # symbols & pictographs\n",
    "                        u\"\\U0001F680-\\U0001F6FF\"  # transport & map symbols\n",
    "                        u\"\\U0001F1E0-\\U0001F1FF\"  # flags (iOS)\n",
    "                        u\"\\U00002702-\\U000027B0\"\n",
    "                        u\"\\U000024C2-\\U0001F251\"\n",
    "                        \"]+\", flags=re.UNICODE)\n",
    "    return emoji_pattern.sub(r'', sentence)"
   ]
  },
  {
   "cell_type": "code",
   "execution_count": 5,
   "metadata": {},
   "outputs": [
    {
     "name": "stdout",
     "output_type": "stream",
     "text": [
      "train set size:  2700\n",
      "test set size:  300\n"
     ]
    }
   ],
   "source": [
    "# origin_data olny has train set, so we get it \n",
    "origin_data = origin_data['train']\n",
    "\n",
    "# we only use the top 3000 data, that is 1500 for each\n",
    "length = 1500\n",
    "\n",
    "# we only use the 'wiki_intro' and 'generated_intro', and target is 0 or 1, \n",
    "# 0 means it is a wiki_intro, 1 means it is a generated_intro\n",
    "dataset = []\n",
    "for i in range(length):\n",
    "    sentence = origin_data[i]['wiki_intro']\n",
    "    if sentence == None:\n",
    "        continue\n",
    "    sentence = format_sentence(sentence)\n",
    "    dataset.append([sentence, 0])\n",
    "    \n",
    "    sentence = origin_data[i]['generated_intro']\n",
    "    if sentence == None:\n",
    "        continue\n",
    "    sentence = format_sentence(sentence)\n",
    "    dataset.append([sentence, 1])\n",
    "\n",
    "# shuffle the dataset\n",
    "random.shuffle(dataset)\n",
    "\n",
    "# split the dataset into train set and test set\n",
    "split_ratio = 0.9\n",
    "train_set = dataset[:int(len(dataset)*split_ratio)]\n",
    "test_set = dataset[int(len(dataset)*split_ratio):]\n",
    "\n",
    "train_set = pd.DataFrame(train_set, columns=['text', 'label'])\n",
    "test_set = pd.DataFrame(test_set, columns=['text', 'label'])\n",
    "\n",
    "print('train set size: ', len(train_set))\n",
    "print('test set size: ', len(test_set))"
   ]
  },
  {
   "cell_type": "code",
   "execution_count": 6,
   "metadata": {},
   "outputs": [],
   "source": [
    "# save the dataset for later use    \n",
    "train_set.to_csv('./dataset/train_set.csv', index=False)  \n",
    "test_set.to_csv('./dataset/test_set.csv', index=False)"
   ]
  },
  {
   "cell_type": "markdown",
   "metadata": {},
   "source": [
    "# Load local dataset"
   ]
  },
  {
   "cell_type": "code",
   "execution_count": 7,
   "metadata": {},
   "outputs": [],
   "source": [
    "import pandas as pd"
   ]
  },
  {
   "cell_type": "code",
   "execution_count": 8,
   "metadata": {},
   "outputs": [
    {
     "name": "stdout",
     "output_type": "stream",
     "text": [
      "train set size:  2700\n",
      "test set size:  300\n"
     ]
    }
   ],
   "source": [
    "# read the dataset\n",
    "train_set = pd.read_csv('./dataset/train_set.csv')\n",
    "test_set = pd.read_csv('./dataset/test_set.csv')\n",
    "\n",
    "print('train set size: ', len(train_set))\n",
    "print('test set size: ', len(test_set))"
   ]
  },
  {
   "cell_type": "code",
   "execution_count": 9,
   "metadata": {},
   "outputs": [
    {
     "data": {
      "text/html": [
       "<div>\n",
       "<style scoped>\n",
       "    .dataframe tbody tr th:only-of-type {\n",
       "        vertical-align: middle;\n",
       "    }\n",
       "\n",
       "    .dataframe tbody tr th {\n",
       "        vertical-align: top;\n",
       "    }\n",
       "\n",
       "    .dataframe thead th {\n",
       "        text-align: right;\n",
       "    }\n",
       "</style>\n",
       "<table border=\"1\" class=\"dataframe\">\n",
       "  <thead>\n",
       "    <tr style=\"text-align: right;\">\n",
       "      <th></th>\n",
       "      <th>text</th>\n",
       "      <th>label</th>\n",
       "    </tr>\n",
       "  </thead>\n",
       "  <tbody>\n",
       "    <tr>\n",
       "      <th>0</th>\n",
       "      <td>events  march 17 – anton rubinstein is named f...</td>\n",
       "      <td>0</td>\n",
       "    </tr>\n",
       "    <tr>\n",
       "      <th>1</th>\n",
       "      <td>caladenia lindleyana, commonly known as the li...</td>\n",
       "      <td>1</td>\n",
       "    </tr>\n",
       "    <tr>\n",
       "      <th>2</th>\n",
       "      <td>paweł kontny schr (29 june 1910 – 10 january 1...</td>\n",
       "      <td>1</td>\n",
       "    </tr>\n",
       "    <tr>\n",
       "      <th>3</th>\n",
       "      <td>supported employment refers to service provisi...</td>\n",
       "      <td>0</td>\n",
       "    </tr>\n",
       "    <tr>\n",
       "      <th>4</th>\n",
       "      <td>highlands is a census-designated place (cdp) l...</td>\n",
       "      <td>0</td>\n",
       "    </tr>\n",
       "  </tbody>\n",
       "</table>\n",
       "</div>"
      ],
      "text/plain": [
       "                                                text  label\n",
       "0  events  march 17 – anton rubinstein is named f...      0\n",
       "1  caladenia lindleyana, commonly known as the li...      1\n",
       "2  paweł kontny schr (29 june 1910 – 10 january 1...      1\n",
       "3  supported employment refers to service provisi...      0\n",
       "4  highlands is a census-designated place (cdp) l...      0"
      ]
     },
     "execution_count": 9,
     "metadata": {},
     "output_type": "execute_result"
    }
   ],
   "source": [
    "train_set.head()"
   ]
  }
 ],
 "metadata": {
  "kernelspec": {
   "display_name": "NLP",
   "language": "python",
   "name": "python3"
  },
  "language_info": {
   "codemirror_mode": {
    "name": "ipython",
    "version": 3
   },
   "file_extension": ".py",
   "mimetype": "text/x-python",
   "name": "python",
   "nbconvert_exporter": "python",
   "pygments_lexer": "ipython3",
   "version": "3.11.5"
  },
  "orig_nbformat": 4
 },
 "nbformat": 4,
 "nbformat_minor": 2
}
