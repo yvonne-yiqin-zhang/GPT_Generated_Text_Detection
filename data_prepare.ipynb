{
 "cells": [
  {
   "cell_type": "markdown",
   "metadata": {},
   "source": [
    "# Download dataset and store"
   ]
  },
  {
   "cell_type": "code",
   "execution_count": 1,
   "metadata": {},
   "outputs": [
    {
     "name": "stderr",
     "output_type": "stream",
     "text": [
      "c:\\Users\\linan\\.conda\\envs\\NLP\\Lib\\site-packages\\tqdm\\auto.py:21: TqdmWarning: IProgress not found. Please update jupyter and ipywidgets. See https://ipywidgets.readthedocs.io/en/stable/user_install.html\n",
      "  from .autonotebook import tqdm as notebook_tqdm\n"
     ]
    }
   ],
   "source": [
    "from datasets import load_dataset\n",
    "import random\n",
    "import pandas as pd\n",
    "import re\n",
    "import pickle\n",
    "\n",
    "random.seed(2023)"
   ]
  },
  {
   "cell_type": "code",
   "execution_count": 2,
   "metadata": {},
   "outputs": [
    {
     "name": "stdout",
     "output_type": "stream",
     "text": [
      "DatasetDict({\n",
      "    train: Dataset({\n",
      "        features: ['id', 'url', 'title', 'wiki_intro', 'generated_intro', 'title_len', 'wiki_intro_len', 'generated_intro_len', 'prompt', 'generated_text', 'prompt_tokens', 'generated_text_tokens'],\n",
      "        num_rows: 150000\n",
      "    })\n",
      "})\n"
     ]
    }
   ],
   "source": [
    "origin_data = load_dataset('aadityaubhat/GPT-wiki-intro')\n",
    "print(origin_data)"
   ]
  },
  {
   "cell_type": "code",
   "execution_count": 3,
   "metadata": {},
   "outputs": [],
   "source": [
    "# origin_data olny has train set, so we get it \n",
    "origin_data = origin_data['train']"
   ]
  },
  {
   "cell_type": "markdown",
   "metadata": {},
   "source": [
    "We random select 1500 data points"
   ]
  },
  {
   "cell_type": "code",
   "execution_count": 4,
   "metadata": {},
   "outputs": [],
   "source": [
    "# random select 1500 of origin data\n",
    "select_index = random.sample(range(0, len(origin_data)), 1500)\n",
    "origin_data = origin_data.select(select_index)\n",
    "\n",
    "# save subset data\n",
    "with open('./dataset/origin_data_3000.pickle', 'wb') as f:\n",
    "    pickle.dump(origin_data, f)"
   ]
  },
  {
   "cell_type": "markdown",
   "metadata": {},
   "source": [
    "# Get from origin data and make it to our dataset"
   ]
  },
  {
   "cell_type": "code",
   "execution_count": 5,
   "metadata": {},
   "outputs": [],
   "source": [
    "def format_sentence(sentence):\n",
    "    sentence = sentence.replace('\\n', ' ')\n",
    "    sentence = sentence.replace('\\t', ' ')\n",
    "    sentence = sentence.replace('\\r', ' ')\n",
    "    \n",
    "    sentence = sentence.lower()\n",
    "    sentence = sentence.strip()\n",
    "    \n",
    "    emoji_pattern = re.compile(\"[\"\n",
    "                        u\"\\U0001F600-\\U0001F64F\"  # emoticons\n",
    "                        u\"\\U0001F300-\\U0001F5FF\"  # symbols & pictographs\n",
    "                        u\"\\U0001F680-\\U0001F6FF\"  # transport & map symbols\n",
    "                        u\"\\U0001F1E0-\\U0001F1FF\"  # flags (iOS)\n",
    "                        u\"\\U00002702-\\U000027B0\"\n",
    "                        u\"\\U000024C2-\\U0001F251\"\n",
    "                        \"]+\", flags=re.UNICODE)\n",
    "    return emoji_pattern.sub(r'', sentence)"
   ]
  },
  {
   "cell_type": "code",
   "execution_count": 6,
   "metadata": {},
   "outputs": [
    {
     "name": "stdout",
     "output_type": "stream",
     "text": [
      "dataset size:  3000\n"
     ]
    }
   ],
   "source": [
    "# we only use the 'wiki_intro' and 'generated_intro', and target is 0 or 1, \n",
    "# 0 means it is a wiki_intro, 1 means it is a generated_intro\n",
    "dataset = []\n",
    "for i in range(len(origin_data)):\n",
    "    sentence = origin_data[i]['wiki_intro']\n",
    "    if sentence == None:\n",
    "        continue\n",
    "    sentence = format_sentence(sentence)\n",
    "    dataset.append([sentence, 0])\n",
    "    \n",
    "    sentence = origin_data[i]['generated_intro']\n",
    "    if sentence == None:\n",
    "        continue\n",
    "    sentence = format_sentence(sentence)\n",
    "    dataset.append([sentence, 1])\n",
    "\n",
    "# shuffle the dataset\n",
    "random.shuffle(dataset)\n",
    "\n",
    "dataset = pd.DataFrame(dataset, columns=['text', 'label'])\n",
    "\n",
    "print('dataset size: ', len(dataset))"
   ]
  },
  {
   "cell_type": "code",
   "execution_count": 7,
   "metadata": {},
   "outputs": [],
   "source": [
    "# save the dataset for later use    \n",
    "with open('./dataset/text_3000.pickle', 'wb') as f:\n",
    "    pickle.dump(dataset, f)"
   ]
  },
  {
   "cell_type": "markdown",
   "metadata": {},
   "source": [
    "get the first 300 to choose hyperparameters"
   ]
  },
  {
   "cell_type": "code",
   "execution_count": 8,
   "metadata": {},
   "outputs": [],
   "source": [
    "dataset_300 = dataset[:300]\n",
    "with open('./dataset/text_300.pickle', 'wb') as f:\n",
    "    pickle.dump(dataset_300, f)"
   ]
  },
  {
   "cell_type": "markdown",
   "metadata": {},
   "source": [
    "# Load local dataset"
   ]
  },
  {
   "cell_type": "code",
   "execution_count": 9,
   "metadata": {},
   "outputs": [],
   "source": [
    "import pickle"
   ]
  },
  {
   "cell_type": "code",
   "execution_count": 10,
   "metadata": {},
   "outputs": [
    {
     "name": "stdout",
     "output_type": "stream",
     "text": [
      "dataset size:  3000\n"
     ]
    }
   ],
   "source": [
    "# read the dataset\n",
    "dataset = pd.read_pickle('./dataset/text_3000.pickle')\n",
    "\n",
    "print('dataset size: ', len(dataset))"
   ]
  },
  {
   "cell_type": "code",
   "execution_count": 11,
   "metadata": {},
   "outputs": [
    {
     "data": {
      "text/html": [
       "<div>\n",
       "<style scoped>\n",
       "    .dataframe tbody tr th:only-of-type {\n",
       "        vertical-align: middle;\n",
       "    }\n",
       "\n",
       "    .dataframe tbody tr th {\n",
       "        vertical-align: top;\n",
       "    }\n",
       "\n",
       "    .dataframe thead th {\n",
       "        text-align: right;\n",
       "    }\n",
       "</style>\n",
       "<table border=\"1\" class=\"dataframe\">\n",
       "  <thead>\n",
       "    <tr style=\"text-align: right;\">\n",
       "      <th></th>\n",
       "      <th>text</th>\n",
       "      <th>label</th>\n",
       "    </tr>\n",
       "  </thead>\n",
       "  <tbody>\n",
       "    <tr>\n",
       "      <th>0</th>\n",
       "      <td>\"logic of empire\" is a science fiction novel b...</td>\n",
       "      <td>1</td>\n",
       "    </tr>\n",
       "    <tr>\n",
       "      <th>1</th>\n",
       "      <td>major general richard hutton davies,  (14 nove...</td>\n",
       "      <td>1</td>\n",
       "    </tr>\n",
       "    <tr>\n",
       "      <th>2</th>\n",
       "      <td>elgin reptiles is the name given to a group of...</td>\n",
       "      <td>1</td>\n",
       "    </tr>\n",
       "    <tr>\n",
       "      <th>3</th>\n",
       "      <td>dubgaill and finngaill, or dubgenti and finnge...</td>\n",
       "      <td>0</td>\n",
       "    </tr>\n",
       "    <tr>\n",
       "      <th>4</th>\n",
       "      <td>chang teh-ming (; born 1938) is a taiwanese ph...</td>\n",
       "      <td>1</td>\n",
       "    </tr>\n",
       "  </tbody>\n",
       "</table>\n",
       "</div>"
      ],
      "text/plain": [
       "                                                text  label\n",
       "0  \"logic of empire\" is a science fiction novel b...      1\n",
       "1  major general richard hutton davies,  (14 nove...      1\n",
       "2  elgin reptiles is the name given to a group of...      1\n",
       "3  dubgaill and finngaill, or dubgenti and finnge...      0\n",
       "4  chang teh-ming (; born 1938) is a taiwanese ph...      1"
      ]
     },
     "execution_count": 11,
     "metadata": {},
     "output_type": "execute_result"
    }
   ],
   "source": [
    "dataset.head()"
   ]
  },
  {
   "cell_type": "markdown",
   "metadata": {},
   "source": [
    "# Get GPT prompt"
   ]
  },
  {
   "cell_type": "code",
   "execution_count": 12,
   "metadata": {},
   "outputs": [],
   "source": [
    "origin_data = pickle.load(open('./dataset/origin_data_3000.pickle', 'rb'))"
   ]
  },
  {
   "cell_type": "code",
   "execution_count": 13,
   "metadata": {},
   "outputs": [],
   "source": [
    "# save prompts\n",
    "prompts = origin_data['prompt']\n",
    "with open('./dataset/prompts_3000.pickle', 'wb') as f:\n",
    "    pickle.dump(prompts, f)"
   ]
  },
  {
   "cell_type": "code",
   "execution_count": 14,
   "metadata": {},
   "outputs": [
    {
     "data": {
      "text/plain": [
       "[\"200 word wikipedia style introduction on 'Long Haired Businessmen'\\n    Long Haired Businessmen is a comedy series\",\n",
       " '200 word wikipedia style introduction on \\'Duke Groner\\'\\n    Edward \"Duke\" Groner (March 24, 1908 –',\n",
       " '200 word wikipedia style introduction on \\'Final Song\\'\\n    \"Final Song\" is a song by Danish',\n",
       " \"200 word wikipedia style introduction on 'Gary Glitter'\\n    Paul Francis Gadd (born 8 May 1944),\",\n",
       " \"200 word wikipedia style introduction on 'Kalinago'\\n    The Kalinago, also known as the Island\"]"
      ]
     },
     "execution_count": 14,
     "metadata": {},
     "output_type": "execute_result"
    }
   ],
   "source": [
    "prompts = pickle.load(open('./dataset/prompts_3000.pickle', 'rb'))\n",
    "prompts[:5]"
   ]
  }
 ],
 "metadata": {
  "kernelspec": {
   "display_name": "NLP",
   "language": "python",
   "name": "python3"
  },
  "language_info": {
   "codemirror_mode": {
    "name": "ipython",
    "version": 3
   },
   "file_extension": ".py",
   "mimetype": "text/x-python",
   "name": "python",
   "nbconvert_exporter": "python",
   "pygments_lexer": "ipython3",
   "version": "3.11.5"
  },
  "orig_nbformat": 4
 },
 "nbformat": 4,
 "nbformat_minor": 2
}
