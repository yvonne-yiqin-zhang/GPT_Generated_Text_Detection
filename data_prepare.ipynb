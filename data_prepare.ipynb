{
 "cells": [
  {
   "cell_type": "markdown",
   "metadata": {},
   "source": [
    "# Download dataset and store"
   ]
  },
  {
   "cell_type": "code",
   "execution_count": 6,
   "metadata": {},
   "outputs": [],
   "source": [
    "from datasets import load_dataset\n",
    "import random\n",
    "import pandas as pd"
   ]
  },
  {
   "cell_type": "code",
   "execution_count": 7,
   "metadata": {},
   "outputs": [
    {
     "name": "stdout",
     "output_type": "stream",
     "text": [
      "DatasetDict({\n",
      "    train: Dataset({\n",
      "        features: ['id', 'url', 'title', 'wiki_intro', 'generated_intro', 'title_len', 'wiki_intro_len', 'generated_intro_len', 'prompt', 'generated_text', 'prompt_tokens', 'generated_text_tokens'],\n",
      "        num_rows: 150000\n",
      "    })\n",
      "})\n"
     ]
    }
   ],
   "source": [
    "origin_data = load_dataset('aadityaubhat/GPT-wiki-intro')\n",
    "print(origin_data)"
   ]
  },
  {
   "cell_type": "code",
   "execution_count": 8,
   "metadata": {},
   "outputs": [],
   "source": [
    "def format_sentence(sentence):\n",
    "    sentence = sentence.replace('\\n', ' ')\n",
    "    sentence = sentence.replace('\\t', ' ')\n",
    "    sentence = sentence.replace('\\r', ' ')\n",
    "    \n",
    "    sentence = sentence.lower()\n",
    "    sentence = sentence.strip()\n",
    "        \n",
    "    # cut the sentence if it is too long for bert\n",
    "    if len(sentence) > 512:\n",
    "        sentence = sentence[:512]\n",
    "    return sentence"
   ]
  },
  {
   "cell_type": "code",
   "execution_count": 9,
   "metadata": {},
   "outputs": [
    {
     "name": "stdout",
     "output_type": "stream",
     "text": [
      "train set size:  27000\n",
      "test set size:  3000\n"
     ]
    }
   ],
   "source": [
    "# origin_data olny has train set, so we get it \n",
    "origin_data = origin_data['train']\n",
    "\n",
    "# we only use the top 30000 data, that is 15000 for each\n",
    "length = 15000\n",
    "\n",
    "# we only use the 'wiki_intro' and 'generated_intro', and target is 0 or 1, \n",
    "# 0 means it is a wiki_intro, 1 means it is a generated_intro\n",
    "dataset = []\n",
    "for i in range(length):\n",
    "    sentence = origin_data[i]['wiki_intro']\n",
    "    if sentence == None:\n",
    "        continue\n",
    "    sentence = format_sentence(sentence)\n",
    "    dataset.append([sentence, 0])\n",
    "    \n",
    "    sentence = origin_data[i]['generated_intro']\n",
    "    if sentence == None:\n",
    "        continue\n",
    "    sentence = format_sentence(sentence)\n",
    "    dataset.append([sentence, 1])\n",
    "\n",
    "# shuffle the dataset\n",
    "random.shuffle(dataset)\n",
    "\n",
    "# split the dataset into train set and test set\n",
    "split_ratio = 0.9\n",
    "train_set = dataset[:int(len(dataset)*split_ratio)]\n",
    "test_set = dataset[int(len(dataset)*split_ratio):]\n",
    "\n",
    "train_set = pd.DataFrame(train_set, columns=['text', 'label'])\n",
    "test_set = pd.DataFrame(test_set, columns=['text', 'label'])\n",
    "\n",
    "print('train set size: ', len(train_set))\n",
    "print('test set size: ', len(test_set))"
   ]
  },
  {
   "cell_type": "code",
   "execution_count": 10,
   "metadata": {},
   "outputs": [],
   "source": [
    "# save the dataset for later use    \n",
    "train_set.to_csv('./dataset/train_set.csv', index=False)  \n",
    "test_set.to_csv('./dataset/test_set.csv', index=False)"
   ]
  },
  {
   "cell_type": "markdown",
   "metadata": {},
   "source": [
    "# Load local dataset"
   ]
  },
  {
   "cell_type": "code",
   "execution_count": 1,
   "metadata": {},
   "outputs": [],
   "source": [
    "import pandas as pd"
   ]
  },
  {
   "cell_type": "code",
   "execution_count": 2,
   "metadata": {},
   "outputs": [
    {
     "name": "stdout",
     "output_type": "stream",
     "text": [
      "train set size:  27000\n",
      "test set size:  3000\n"
     ]
    }
   ],
   "source": [
    "# read the dataset\n",
    "train_set = pd.read_csv('./dataset/train_set.csv')\n",
    "test_set = pd.read_csv('./dataset/test_set.csv')\n",
    "\n",
    "print('train set size: ', len(train_set))\n",
    "print('test set size: ', len(test_set))"
   ]
  },
  {
   "cell_type": "code",
   "execution_count": 3,
   "metadata": {},
   "outputs": [
    {
     "data": {
      "text/html": [
       "<div>\n",
       "<style scoped>\n",
       "    .dataframe tbody tr th:only-of-type {\n",
       "        vertical-align: middle;\n",
       "    }\n",
       "\n",
       "    .dataframe tbody tr th {\n",
       "        vertical-align: top;\n",
       "    }\n",
       "\n",
       "    .dataframe thead th {\n",
       "        text-align: right;\n",
       "    }\n",
       "</style>\n",
       "<table border=\"1\" class=\"dataframe\">\n",
       "  <thead>\n",
       "    <tr style=\"text-align: right;\">\n",
       "      <th></th>\n",
       "      <th>text</th>\n",
       "      <th>label</th>\n",
       "    </tr>\n",
       "  </thead>\n",
       "  <tbody>\n",
       "    <tr>\n",
       "      <th>0</th>\n",
       "      <td>the oliveira lima library (also known as the  ...</td>\n",
       "      <td>0</td>\n",
       "    </tr>\n",
       "    <tr>\n",
       "      <th>1</th>\n",
       "      <td>, better known as , is a japanese popular sing...</td>\n",
       "      <td>0</td>\n",
       "    </tr>\n",
       "    <tr>\n",
       "      <th>2</th>\n",
       "      <td>julian marryshow (1918 – 17 july 2012) was a g...</td>\n",
       "      <td>0</td>\n",
       "    </tr>\n",
       "    <tr>\n",
       "      <th>3</th>\n",
       "      <td>joseph mason cox (1763–1818) was an early amer...</td>\n",
       "      <td>1</td>\n",
       "    </tr>\n",
       "    <tr>\n",
       "      <th>4</th>\n",
       "      <td>the crucifixion darkness is an episode in thre...</td>\n",
       "      <td>0</td>\n",
       "    </tr>\n",
       "  </tbody>\n",
       "</table>\n",
       "</div>"
      ],
      "text/plain": [
       "                                                text  label\n",
       "0  the oliveira lima library (also known as the  ...      0\n",
       "1  , better known as , is a japanese popular sing...      0\n",
       "2  julian marryshow (1918 – 17 july 2012) was a g...      0\n",
       "3  joseph mason cox (1763–1818) was an early amer...      1\n",
       "4  the crucifixion darkness is an episode in thre...      0"
      ]
     },
     "execution_count": 3,
     "metadata": {},
     "output_type": "execute_result"
    }
   ],
   "source": [
    "train_set.head()"
   ]
  },
  {
   "cell_type": "markdown",
   "metadata": {},
   "source": [
    "# Sent2Vec"
   ]
  },
  {
   "cell_type": "code",
   "execution_count": 4,
   "metadata": {},
   "outputs": [
    {
     "name": "stderr",
     "output_type": "stream",
     "text": [
      "c:\\Users\\linan\\.conda\\envs\\NLP\\Lib\\site-packages\\tqdm\\auto.py:21: TqdmWarning: IProgress not found. Please update jupyter and ipywidgets. See https://ipywidgets.readthedocs.io/en/stable/user_install.html\n",
      "  from .autonotebook import tqdm as notebook_tqdm\n"
     ]
    }
   ],
   "source": [
    "# https://pypi.org/project/sent2vec/\n",
    "from sent2vec.vectorizer import Vectorizer\n",
    "import numpy as np"
   ]
  },
  {
   "cell_type": "markdown",
   "metadata": {},
   "source": [
    "## For small dataset we run all text"
   ]
  },
  {
   "cell_type": "code",
   "execution_count": 5,
   "metadata": {},
   "outputs": [],
   "source": [
    "def vectorize_small(dataset):\n",
    "    vector_set = pd.DataFrame(columns=['vector', 'label'], index=range(len(dataset)))\n",
    "    vectorizer = Vectorizer(pretrained_weights='distilbert-base-uncased')\n",
    "    vectorizer.run(list(dataset['text']))\n",
    "    vectors = vectorizer.vectors\n",
    "    vector_set['vector'] = list(vectors)\n",
    "    vector_set['label'] = list(dataset['label'])\n",
    "    return vector_set"
   ]
  },
  {
   "cell_type": "markdown",
   "metadata": {},
   "source": [
    "## For large dataset we run every 100 text"
   ]
  },
  {
   "cell_type": "code",
   "execution_count": 10,
   "metadata": {},
   "outputs": [],
   "source": [
    "def vectorize_large(dataset, n=1000):\n",
    "    vector_set = pd.DataFrame(columns=['vector', 'label'], index=range(len(dataset)))\n",
    "    # for every n data, we run the vectorizer\n",
    "    for i in range(0, len(train_set), n):\n",
    "        if i+n > len(train_set):\n",
    "            end = len(train_set)\n",
    "        else:\n",
    "            end = i+n\n",
    "        vectorizer = Vectorizer(pretrained_weights='distilbert-base-uncased')\n",
    "        vectorizer.run(list(train_set['text'][i:end]))\n",
    "        vector_set['vector'][i:end] = vectorizer.vectors\n",
    "        vector_set['label'][i:end] = train_set['label'][i:end]\n",
    "    return vector_set"
   ]
  },
  {
   "cell_type": "code",
   "execution_count": 11,
   "metadata": {},
   "outputs": [
    {
     "name": "stdout",
     "output_type": "stream",
     "text": [
      "Initializing Bert distilbert-base-uncased\n",
      "Vectorization done on cpu\n",
      "Initializing Bert distilbert-base-uncased\n",
      "Vectorization done on cpu\n",
      "Initializing Bert distilbert-base-uncased\n",
      "Vectorization done on cpu\n",
      "Initializing Bert distilbert-base-uncased\n",
      "Vectorization done on cpu\n",
      "Initializing Bert distilbert-base-uncased\n",
      "Vectorization done on cpu\n",
      "Initializing Bert distilbert-base-uncased\n",
      "Vectorization done on cpu\n",
      "Initializing Bert distilbert-base-uncased\n",
      "Vectorization done on cpu\n",
      "Initializing Bert distilbert-base-uncased\n",
      "Vectorization done on cpu\n",
      "Initializing Bert distilbert-base-uncased\n",
      "Vectorization done on cpu\n",
      "Initializing Bert distilbert-base-uncased\n",
      "Vectorization done on cpu\n",
      "Initializing Bert distilbert-base-uncased\n",
      "Vectorization done on cpu\n",
      "Initializing Bert distilbert-base-uncased\n",
      "Vectorization done on cpu\n",
      "Initializing Bert distilbert-base-uncased\n",
      "Vectorization done on cpu\n",
      "Initializing Bert distilbert-base-uncased\n",
      "Vectorization done on cpu\n",
      "Initializing Bert distilbert-base-uncased\n",
      "Vectorization done on cpu\n",
      "Initializing Bert distilbert-base-uncased\n",
      "Vectorization done on cpu\n",
      "Initializing Bert distilbert-base-uncased\n",
      "Vectorization done on cpu\n",
      "Initializing Bert distilbert-base-uncased\n",
      "Vectorization done on cpu\n",
      "Initializing Bert distilbert-base-uncased\n",
      "Vectorization done on cpu\n",
      "Initializing Bert distilbert-base-uncased\n",
      "Vectorization done on cpu\n",
      "Initializing Bert distilbert-base-uncased\n",
      "Vectorization done on cpu\n",
      "Initializing Bert distilbert-base-uncased\n",
      "Vectorization done on cpu\n",
      "Initializing Bert distilbert-base-uncased\n",
      "Vectorization done on cpu\n",
      "Initializing Bert distilbert-base-uncased\n",
      "Vectorization done on cpu\n",
      "Initializing Bert distilbert-base-uncased\n",
      "Vectorization done on cpu\n",
      "Initializing Bert distilbert-base-uncased\n",
      "Vectorization done on cpu\n",
      "Initializing Bert distilbert-base-uncased\n",
      "Vectorization done on cpu\n"
     ]
    }
   ],
   "source": [
    "# save the dataset for later use\n",
    "train_set_vector = vectorize_large(train_set)\n",
    "train_set_vector.to_csv('./dataset/train_set_vector.csv', index=False)"
   ]
  },
  {
   "cell_type": "code",
   "execution_count": 6,
   "metadata": {},
   "outputs": [
    {
     "name": "stdout",
     "output_type": "stream",
     "text": [
      "Initializing Bert distilbert-base-uncased\n",
      "Vectorization done on cpu\n"
     ]
    },
    {
     "name": "stderr",
     "output_type": "stream",
     "text": [
      "We strongly recommend passing in an `attention_mask` since your input_ids may be padded. See https://huggingface.co/docs/transformers/troubleshooting#incorrect-output-when-padding-tokens-arent-masked.\n"
     ]
    }
   ],
   "source": [
    "test_set_vector = vectorize_small(test_set)\n",
    "test_set_vector.to_csv('./dataset/test_set_vector.csv', index=False)"
   ]
  }
 ],
 "metadata": {
  "kernelspec": {
   "display_name": "NLP",
   "language": "python",
   "name": "python3"
  },
  "language_info": {
   "codemirror_mode": {
    "name": "ipython",
    "version": 3
   },
   "file_extension": ".py",
   "mimetype": "text/x-python",
   "name": "python",
   "nbconvert_exporter": "python",
   "pygments_lexer": "ipython3",
   "version": "3.11.5"
  },
  "orig_nbformat": 4
 },
 "nbformat": 4,
 "nbformat_minor": 2
}
