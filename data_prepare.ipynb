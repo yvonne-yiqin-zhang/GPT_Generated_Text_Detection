{
 "cells": [
  {
   "cell_type": "markdown",
   "metadata": {},
   "source": [
    "# Download dataset and store"
   ]
  },
  {
   "cell_type": "code",
   "execution_count": 1,
   "metadata": {},
   "outputs": [
    {
     "name": "stderr",
     "output_type": "stream",
     "text": [
      "c:\\Users\\linan\\.conda\\envs\\NLP\\Lib\\site-packages\\tqdm\\auto.py:21: TqdmWarning: IProgress not found. Please update jupyter and ipywidgets. See https://ipywidgets.readthedocs.io/en/stable/user_install.html\n",
      "  from .autonotebook import tqdm as notebook_tqdm\n"
     ]
    }
   ],
   "source": [
    "from datasets import load_dataset\n",
    "import random\n",
    "import pandas as pd\n",
    "import re\n",
    "import pickle\n",
    "\n",
    "random.seed(2023)"
   ]
  },
  {
   "cell_type": "code",
   "execution_count": 2,
   "metadata": {},
   "outputs": [
    {
     "name": "stdout",
     "output_type": "stream",
     "text": [
      "DatasetDict({\n",
      "    train: Dataset({\n",
      "        features: ['id', 'url', 'title', 'wiki_intro', 'generated_intro', 'title_len', 'wiki_intro_len', 'generated_intro_len', 'prompt', 'generated_text', 'prompt_tokens', 'generated_text_tokens'],\n",
      "        num_rows: 150000\n",
      "    })\n",
      "})\n"
     ]
    }
   ],
   "source": [
    "origin_data = load_dataset('aadityaubhat/GPT-wiki-intro')\n",
    "print(origin_data)"
   ]
  },
  {
   "cell_type": "code",
   "execution_count": 3,
   "metadata": {},
   "outputs": [],
   "source": [
    "# origin_data olny has train set, so we get it \n",
    "origin_data = origin_data['train']"
   ]
  },
  {
   "cell_type": "markdown",
   "metadata": {},
   "source": [
    "We random select 1500 data points"
   ]
  },
  {
   "cell_type": "code",
   "execution_count": 4,
   "metadata": {},
   "outputs": [],
   "source": [
    "# random select 1500 of origin data\n",
    "select_index = random.sample(range(0, len(origin_data)), 1500)\n",
    "origin_data = origin_data.select(select_index)\n",
    "\n",
    "# save subset data\n",
    "with open('./dataset/origin_data_3000.pickle', 'wb') as f:\n",
    "    pickle.dump(origin_data, f)"
   ]
  },
  {
   "cell_type": "markdown",
   "metadata": {},
   "source": [
    "# Get from origin data and make it to our dataset"
   ]
  },
  {
   "cell_type": "code",
   "execution_count": 2,
   "metadata": {},
   "outputs": [],
   "source": [
    "def format_sentence(sentence):\n",
    "    sentence = sentence.replace('\\n', ' ')\n",
    "    sentence = sentence.replace('\\t', ' ')\n",
    "    sentence = sentence.replace('\\r', ' ')\n",
    "    \n",
    "    sentence = sentence.lower()\n",
    "    sentence = sentence.strip()\n",
    "    \n",
    "    emoji_pattern = re.compile(\"[\"\n",
    "                        u\"\\U0001F600-\\U0001F64F\"  # emoticons\n",
    "                        u\"\\U0001F300-\\U0001F5FF\"  # symbols & pictographs\n",
    "                        u\"\\U0001F680-\\U0001F6FF\"  # transport & map symbols\n",
    "                        u\"\\U0001F1E0-\\U0001F1FF\"  # flags (iOS)\n",
    "                        u\"\\U00002702-\\U000027B0\"\n",
    "                        u\"\\U000024C2-\\U0001F251\"\n",
    "                        \"]+\", flags=re.UNICODE)\n",
    "    return emoji_pattern.sub(r'', sentence)"
   ]
  },
  {
   "cell_type": "code",
   "execution_count": 6,
   "metadata": {},
   "outputs": [
    {
     "name": "stdout",
     "output_type": "stream",
     "text": [
      "dataset size:  3000\n"
     ]
    }
   ],
   "source": [
    "# we only use the 'wiki_intro' and 'generated_intro', and target is 0 or 1, \n",
    "# 0 means it is a wiki_intro, 1 means it is a generated_intro\n",
    "dataset = []\n",
    "for i in range(len(origin_data)):\n",
    "    sentence = origin_data[i]['wiki_intro']\n",
    "    if sentence == None:\n",
    "        continue\n",
    "    sentence = format_sentence(sentence)\n",
    "    dataset.append([sentence, 0])\n",
    "    \n",
    "    sentence = origin_data[i]['generated_intro']\n",
    "    if sentence == None:\n",
    "        continue\n",
    "    sentence = format_sentence(sentence)\n",
    "    dataset.append([sentence, 1])\n",
    "\n",
    "# shuffle the dataset\n",
    "random.shuffle(dataset)\n",
    "\n",
    "dataset = pd.DataFrame(dataset, columns=['text', 'label'])\n",
    "\n",
    "print('dataset size: ', len(dataset))"
   ]
  },
  {
   "cell_type": "code",
   "execution_count": 7,
   "metadata": {},
   "outputs": [],
   "source": [
    "# save the dataset for later use    \n",
    "with open('./dataset/text_3000.pickle', 'wb') as f:\n",
    "    pickle.dump(dataset, f)"
   ]
  },
  {
   "cell_type": "markdown",
   "metadata": {},
   "source": [
    "get the first 300 to choose hyperparameters"
   ]
  },
  {
   "cell_type": "code",
   "execution_count": 8,
   "metadata": {},
   "outputs": [],
   "source": [
    "dataset_300 = dataset[:300]\n",
    "with open('./dataset/text_300.pickle', 'wb') as f:\n",
    "    pickle.dump(dataset_300, f)"
   ]
  },
  {
   "cell_type": "markdown",
   "metadata": {},
   "source": [
    "# Load local dataset"
   ]
  },
  {
   "cell_type": "code",
   "execution_count": 9,
   "metadata": {},
   "outputs": [],
   "source": [
    "import pickle"
   ]
  },
  {
   "cell_type": "code",
   "execution_count": 10,
   "metadata": {},
   "outputs": [
    {
     "name": "stdout",
     "output_type": "stream",
     "text": [
      "dataset size:  3000\n"
     ]
    }
   ],
   "source": [
    "# read the dataset\n",
    "dataset = pd.read_pickle('./dataset/text_3000.pickle')\n",
    "\n",
    "print('dataset size: ', len(dataset))"
   ]
  },
  {
   "cell_type": "code",
   "execution_count": 11,
   "metadata": {},
   "outputs": [
    {
     "data": {
      "text/html": [
       "<div>\n",
       "<style scoped>\n",
       "    .dataframe tbody tr th:only-of-type {\n",
       "        vertical-align: middle;\n",
       "    }\n",
       "\n",
       "    .dataframe tbody tr th {\n",
       "        vertical-align: top;\n",
       "    }\n",
       "\n",
       "    .dataframe thead th {\n",
       "        text-align: right;\n",
       "    }\n",
       "</style>\n",
       "<table border=\"1\" class=\"dataframe\">\n",
       "  <thead>\n",
       "    <tr style=\"text-align: right;\">\n",
       "      <th></th>\n",
       "      <th>text</th>\n",
       "      <th>label</th>\n",
       "    </tr>\n",
       "  </thead>\n",
       "  <tbody>\n",
       "    <tr>\n",
       "      <th>0</th>\n",
       "      <td>\"logic of empire\" is a science fiction novel b...</td>\n",
       "      <td>1</td>\n",
       "    </tr>\n",
       "    <tr>\n",
       "      <th>1</th>\n",
       "      <td>major general richard hutton davies,  (14 nove...</td>\n",
       "      <td>1</td>\n",
       "    </tr>\n",
       "    <tr>\n",
       "      <th>2</th>\n",
       "      <td>elgin reptiles is the name given to a group of...</td>\n",
       "      <td>1</td>\n",
       "    </tr>\n",
       "    <tr>\n",
       "      <th>3</th>\n",
       "      <td>dubgaill and finngaill, or dubgenti and finnge...</td>\n",
       "      <td>0</td>\n",
       "    </tr>\n",
       "    <tr>\n",
       "      <th>4</th>\n",
       "      <td>chang teh-ming (; born 1938) is a taiwanese ph...</td>\n",
       "      <td>1</td>\n",
       "    </tr>\n",
       "  </tbody>\n",
       "</table>\n",
       "</div>"
      ],
      "text/plain": [
       "                                                text  label\n",
       "0  \"logic of empire\" is a science fiction novel b...      1\n",
       "1  major general richard hutton davies,  (14 nove...      1\n",
       "2  elgin reptiles is the name given to a group of...      1\n",
       "3  dubgaill and finngaill, or dubgenti and finnge...      0\n",
       "4  chang teh-ming (; born 1938) is a taiwanese ph...      1"
      ]
     },
     "execution_count": 11,
     "metadata": {},
     "output_type": "execute_result"
    }
   ],
   "source": [
    "dataset.head()"
   ]
  },
  {
   "cell_type": "markdown",
   "metadata": {},
   "source": [
    "# Get GPT prompt"
   ]
  },
  {
   "cell_type": "code",
   "execution_count": 12,
   "metadata": {},
   "outputs": [],
   "source": [
    "origin_data = pickle.load(open('./dataset/origin_data_3000.pickle', 'rb'))"
   ]
  },
  {
   "cell_type": "code",
   "execution_count": 13,
   "metadata": {},
   "outputs": [],
   "source": [
    "# save prompts\n",
    "prompts = origin_data['prompt']\n",
    "with open('./dataset/prompts_3000.pickle', 'wb') as f:\n",
    "    pickle.dump(prompts, f)"
   ]
  },
  {
   "cell_type": "code",
   "execution_count": 14,
   "metadata": {},
   "outputs": [
    {
     "data": {
      "text/plain": [
       "[\"200 word wikipedia style introduction on 'Long Haired Businessmen'\\n    Long Haired Businessmen is a comedy series\",\n",
       " '200 word wikipedia style introduction on \\'Duke Groner\\'\\n    Edward \"Duke\" Groner (March 24, 1908 –',\n",
       " '200 word wikipedia style introduction on \\'Final Song\\'\\n    \"Final Song\" is a song by Danish',\n",
       " \"200 word wikipedia style introduction on 'Gary Glitter'\\n    Paul Francis Gadd (born 8 May 1944),\",\n",
       " \"200 word wikipedia style introduction on 'Kalinago'\\n    The Kalinago, also known as the Island\"]"
      ]
     },
     "execution_count": 14,
     "metadata": {},
     "output_type": "execute_result"
    }
   ],
   "source": [
    "prompts = pickle.load(open('./dataset/prompts_3000.pickle', 'rb'))\n",
    "prompts[:5]"
   ]
  },
  {
   "cell_type": "markdown",
   "metadata": {},
   "source": [
    "# GPT3.5 text"
   ]
  },
  {
   "cell_type": "code",
   "execution_count": 6,
   "metadata": {},
   "outputs": [
    {
     "data": {
      "text/plain": [
       "[\"that first premiered on television in 2018. The show revolves around a group of businessmen who not only possess exceptional business skills but also have long, flowing hair, which sets them apart from the typical corporate world. The series offers a unique blend of humor, drama, and satire, making it a favorite for viewers of all ages.\\n\\nThe show's main characters are a diverse group of individuals, each with a different personality and background. Despite their differences, they all share a common love for success, style, and of course, their luscious locks. The series delves into their personal and professional lives, portraying the challenges they face in the cutthroat world of business while maintaining their distinct hairstyles.\\n\\nThroughout the episodes, Long Haired Businessmen presents a humorous portrayal of the corporate world, often mocking the clichés and stereotypes associated with it. The characters navigate mergers, office politics, and deal negotiations, all the while sporting their iconic long hair that symbolizes their rebellious nature within the rigid corporate environment.\\n\\nThe witty writing and clever dialogue in the series provide endless comedic moments, highlighting the contrast between these unconventional businessmen and the traditional corporate culture. The show also explores deeper themes, such as the importance of individuality, breaking free from societal norms, and pursuing one's passion despite the obstacles.\\n\\nLong Haired Businessmen has gained a devoted following since its debut, with fans eagerly awaiting each new episode. Its success can be attributed to its refreshing take on the business world and its ability to combine comedy with relevant social commentary. Whether you're a business professional or simply looking for a good laugh, Long Haired Businessmen is a must-watch series that will leave you entertained and inspired.\",\n",
       " 'March 12, 1985) was an American entrepreneur and philanthropist known for his contributions to the fields of education and healthcare. Born in Cleveland, Ohio, Groner grew up in a modest household and faced numerous challenges early in life. However, he defied the odds and went on to become one of the most prominent figures in his community.\\n\\nGroner\\'s passion for education led him to establish the Groner Foundation, a non-profit organization dedicated to providing scholarships and grants to underprivileged students. Over the years, the foundation has supported countless individuals in pursuing their educational goals, helping them overcome financial barriers and achieve success.\\n\\nIn addition to his work in education, Groner played a vital role in improving healthcare in his community. He founded the Groner Medical Center, a state-of-the-art facility that provided affordable and accessible healthcare services to individuals from all walks of life. The medical center quickly gained a reputation for its high-quality care and compassionate staff, becoming a trusted institution in the community.\\n\\nGroner\\'s philanthropic endeavors extended beyond education and healthcare. He generously contributed to various charitable organizations, supporting causes such as poverty alleviation, environmental conservation, and the arts. His commitment to making a positive difference in the world was widely recognized, earning him numerous awards and accolades throughout his lifetime.\\n\\nEdward \"Duke\" Groner\\'s legacy continues to have a lasting impact on his community. His dedication to improving the lives of others serves as an inspiration to future generations, encouraging them to strive for greatness and give back to society. His contributions in the fields of education and healthcare have left a significant imprint, ensuring that his name will be remembered and celebrated for years to come.',\n",
       " 'singer-songwriter MØ, released as a single in 2016. The energetic pop track was written by MØ alongside Noonie Bao, MNEK, and Rustie, and produced by Bao and Uzoechi Emenike. \"Final Song\" showcases MØ\\'s distinctive vocals and blends elements of electropop, EDM, and tropical house, creating a captivating and dance-worthy sound.\\n\\nThe song\\'s lyrics revolve around themes of determination, resilience, and the pursuit of personal growth. It embraces the idea of finding strength in oneself to overcome obstacles and face the uncertainties of life head-on. MØ\\'s powerful and emotive vocals perfectly capture the empowering message of the track, injecting a sense of urgency and vitality into her performance.\\n\\nUpon its release, \"Final Song\" received positive reviews from music critics, who praised MØ\\'s vocal delivery and the song\\'s infectious chorus. The track went on to achieve commercial success, reaching the top 10 in Denmark and the top 40 in several other countries, including Australia, Belgium, and the United Kingdom. Its music video, directed by Tomas Whitmore, showcases MØ in various natural landscapes, further enhancing the song\\'s themes of personal growth and liberation.\\n\\nMØ, born as Karen Marie Aagaard Ørsted Andersen in 1988 in Odense, Denmark, first gained international recognition as the featured artist on Major Lazer and DJ Snake\\'s hit single \"Lean On\" in 2015. Since then, she has established herself as a prominent figure in the pop music scene, known for her distinctive voice, dynamic performances, and unconventional style. \"Final Song\" is yet another example of MØ\\'s ability to create catchy and anthemic tracks that resonate with audiences worldwide.',\n",
       " 'better known by his stage name Gary Glitter, is an English singer, songwriter, and convicted sex offender. He rose to prominence in the 1970s with his glam rock music and flashy stage presence, becoming one of the most successful and influential artists of the era.\\n\\nBorn in Banbury, Oxfordshire, Glitter began his musical career in the early 1960s as a member of various bands, including Paul Raven and the Raiders. In 1972, he adopted the stage name Gary Glitter and released his debut album, \"Glitter,\" which spawned his first hit single, \"Rock and Roll, Part 2.\" With its catchy hook and memorable instrumental sections, the song became one of Glitter\\'s most enduring and recognizable hits.\\n\\nThroughout the 1970s, Glitter continued to release a string of successful albums and singles, including \"I\\'m the Leader of the Gang (I Am!)\" and \"Do You Wanna Touch Me? (Oh Yeah!).\" His glamorous image and energetic performances captivated audiences, making him a major figure in the glam rock movement.\\n\\nHowever, Glitter\\'s career eventually plummeted into controversy and legal trouble. In 1997, he was convicted of possessing child pornography, leading to a prison sentence. Following his release in 2000, Glitter faced further legal issues when he was convicted in Vietnam in 2006 for child sex offenses. Subsequently, he was deported to the UK in 2008. In 2015, he was found guilty of attempted rape, indecent assault, and other sexual offenses, resulting in a lengthy prison sentence.\\n\\nSince his conviction, Glitter\\'s music has been widely boycotted and he has become a highly controversial figure. Despite his tarnished reputation, his early contributions to glam rock remain influential, and his music continues to be appreciated by some fans.',\n",
       " 'Caribs, are an indigenous people of the Caribbean islands, specifically Dominica and St. Vincent. They are part of the larger Carib-speaking group, which also includes other indigenous communities such as the Garifuna people.\\n\\nHistorically, the Kalinago were known for their exceptional seafaring skills and navigation, which allowed them to navigate the treacherous waters of the Caribbean and establish settlements on various islands. They were feared by European colonizers due to their fierce resistance against colonization and their reputation as skilled warriors.\\n\\nThe Kalinago were expert farmers, cultivating crops such as yams, corn, and cassava. They also relied on fishing and hunting as important sources of food. In terms of social structure, they lived in small villages led by a chief or council of elders, and were organized into clans, each with its own specific responsibilities and territories.\\n\\nEuropean contact with the Kalinago began in the late 15th century, when Christopher Columbus landed on the Caribbean islands. As European powers sought to establish colonies and exploit resources, they often clashed with the indigenous populations, resulting in conflicts and diseases that decimated the Kalinago population.\\n\\nDespite these challenges, the Kalinago have managed to preserve their cultural identity and heritage. Today, they continue to live in their traditional territories in Dominica and St. Vincent, where they have established indigenous reservations. They engage in traditional practices such as canoe building, basket weaving, and the preservation of their traditional language.\\n\\nIn recent years, there has been a revitalization of the Kalinago culture, with efforts to reclaim and celebrate their heritage. The Kalinago people have also become advocates for indigenous rights and environmental conservation, working towards sustainable development and protecting their ancestral lands.\\n\\nOverall, the Kalinago are a resilient indigenous community with a rich cultural heritage. Their history serves as a reminder of the ongoing struggle for indigenous rights and the importance of preserving and respecting indigenous cultures in the Caribbean and beyond.']"
      ]
     },
     "execution_count": 6,
     "metadata": {},
     "output_type": "execute_result"
    }
   ],
   "source": [
    "GPT_text = pickle.load(open('./GPTresponse.pkl', 'rb'))\n",
    "GPT_text[:5]"
   ]
  },
  {
   "cell_type": "code",
   "execution_count": 25,
   "metadata": {},
   "outputs": [
    {
     "name": "stdout",
     "output_type": "stream",
     "text": [
      "dataset size:  1500\n"
     ]
    },
    {
     "data": {
      "text/plain": [
       "[[\"that first premiered on television in 2018. the show revolves around a group of businessmen who not only possess exceptional business skills but also have long, flowing hair, which sets them apart from the typical corporate world. the series offers a unique blend of humor, drama, and satire, making it a favorite for viewers of all ages.  the show's main characters are a diverse group of individuals, each with a different personality and background. despite their differences, they all share a common love for success, style, and of course, their luscious locks. the series delves into their personal and professional lives, portraying the challenges they face in the cutthroat world of business while maintaining their distinct hairstyles.  throughout the episodes, long haired businessmen presents a humorous portrayal of the corporate world, often mocking the clichés and stereotypes associated with it. the characters navigate mergers, office politics, and deal negotiations, all the while sporting their iconic long hair that symbolizes their rebellious nature within the rigid corporate environment.  the witty writing and clever dialogue in the series provide endless comedic moments, highlighting the contrast between these unconventional businessmen and the traditional corporate culture. the show also explores deeper themes, such as the importance of individuality, breaking free from societal norms, and pursuing one's passion despite the obstacles.  long haired businessmen has gained a devoted following since its debut, with fans eagerly awaiting each new episode. its success can be attributed to its refreshing take on the business world and its ability to combine comedy with relevant social commentary. whether you're a business professional or simply looking for a good laugh, long haired businessmen is a must-watch series that will leave you entertained and inspired.\",\n",
       "  1],\n",
       " ['march 12, 1985) was an american entrepreneur and philanthropist known for his contributions to the fields of education and healthcare. born in cleveland, ohio, groner grew up in a modest household and faced numerous challenges early in life. however, he defied the odds and went on to become one of the most prominent figures in his community.  groner\\'s passion for education led him to establish the groner foundation, a non-profit organization dedicated to providing scholarships and grants to underprivileged students. over the years, the foundation has supported countless individuals in pursuing their educational goals, helping them overcome financial barriers and achieve success.  in addition to his work in education, groner played a vital role in improving healthcare in his community. he founded the groner medical center, a state-of-the-art facility that provided affordable and accessible healthcare services to individuals from all walks of life. the medical center quickly gained a reputation for its high-quality care and compassionate staff, becoming a trusted institution in the community.  groner\\'s philanthropic endeavors extended beyond education and healthcare. he generously contributed to various charitable organizations, supporting causes such as poverty alleviation, environmental conservation, and the arts. his commitment to making a positive difference in the world was widely recognized, earning him numerous awards and accolades throughout his lifetime.  edward \"duke\" groner\\'s legacy continues to have a lasting impact on his community. his dedication to improving the lives of others serves as an inspiration to future generations, encouraging them to strive for greatness and give back to society. his contributions in the fields of education and healthcare have left a significant imprint, ensuring that his name will be remembered and celebrated for years to come.',\n",
       "  1],\n",
       " ['singer-songwriter mø, released as a single in 2016. the energetic pop track was written by mø alongside noonie bao, mnek, and rustie, and produced by bao and uzoechi emenike. \"final song\" showcases mø\\'s distinctive vocals and blends elements of electropop, edm, and tropical house, creating a captivating and dance-worthy sound.  the song\\'s lyrics revolve around themes of determination, resilience, and the pursuit of personal growth. it embraces the idea of finding strength in oneself to overcome obstacles and face the uncertainties of life head-on. mø\\'s powerful and emotive vocals perfectly capture the empowering message of the track, injecting a sense of urgency and vitality into her performance.  upon its release, \"final song\" received positive reviews from music critics, who praised mø\\'s vocal delivery and the song\\'s infectious chorus. the track went on to achieve commercial success, reaching the top 10 in denmark and the top 40 in several other countries, including australia, belgium, and the united kingdom. its music video, directed by tomas whitmore, showcases mø in various natural landscapes, further enhancing the song\\'s themes of personal growth and liberation.  mø, born as karen marie aagaard ørsted andersen in 1988 in odense, denmark, first gained international recognition as the featured artist on major lazer and dj snake\\'s hit single \"lean on\" in 2015. since then, she has established herself as a prominent figure in the pop music scene, known for her distinctive voice, dynamic performances, and unconventional style. \"final song\" is yet another example of mø\\'s ability to create catchy and anthemic tracks that resonate with audiences worldwide.',\n",
       "  1],\n",
       " ['better known by his stage name gary glitter, is an english singer, songwriter, and convicted sex offender. he rose to prominence in the 1970s with his glam rock music and flashy stage presence, becoming one of the most successful and influential artists of the era.  born in banbury, oxfordshire, glitter began his musical career in the early 1960s as a member of various bands, including paul raven and the raiders. in 1972, he adopted the stage name gary glitter and released his debut album, \"glitter,\" which spawned his first hit single, \"rock and roll, part 2.\" with its catchy hook and memorable instrumental sections, the song became one of glitter\\'s most enduring and recognizable hits.  throughout the 1970s, glitter continued to release a string of successful albums and singles, including \"i\\'m the leader of the gang (i am!)\" and \"do you wanna touch me? (oh yeah!).\" his glamorous image and energetic performances captivated audiences, making him a major figure in the glam rock movement.  however, glitter\\'s career eventually plummeted into controversy and legal trouble. in 1997, he was convicted of possessing child pornography, leading to a prison sentence. following his release in 2000, glitter faced further legal issues when he was convicted in vietnam in 2006 for child sex offenses. subsequently, he was deported to the uk in 2008. in 2015, he was found guilty of attempted rape, indecent assault, and other sexual offenses, resulting in a lengthy prison sentence.  since his conviction, glitter\\'s music has been widely boycotted and he has become a highly controversial figure. despite his tarnished reputation, his early contributions to glam rock remain influential, and his music continues to be appreciated by some fans.',\n",
       "  1],\n",
       " ['caribs, are an indigenous people of the caribbean islands, specifically dominica and st. vincent. they are part of the larger carib-speaking group, which also includes other indigenous communities such as the garifuna people.  historically, the kalinago were known for their exceptional seafaring skills and navigation, which allowed them to navigate the treacherous waters of the caribbean and establish settlements on various islands. they were feared by european colonizers due to their fierce resistance against colonization and their reputation as skilled warriors.  the kalinago were expert farmers, cultivating crops such as yams, corn, and cassava. they also relied on fishing and hunting as important sources of food. in terms of social structure, they lived in small villages led by a chief or council of elders, and were organized into clans, each with its own specific responsibilities and territories.  european contact with the kalinago began in the late 15th century, when christopher columbus landed on the caribbean islands. as european powers sought to establish colonies and exploit resources, they often clashed with the indigenous populations, resulting in conflicts and diseases that decimated the kalinago population.  despite these challenges, the kalinago have managed to preserve their cultural identity and heritage. today, they continue to live in their traditional territories in dominica and st. vincent, where they have established indigenous reservations. they engage in traditional practices such as canoe building, basket weaving, and the preservation of their traditional language.  in recent years, there has been a revitalization of the kalinago culture, with efforts to reclaim and celebrate their heritage. the kalinago people have also become advocates for indigenous rights and environmental conservation, working towards sustainable development and protecting their ancestral lands.  overall, the kalinago are a resilient indigenous community with a rich cultural heritage. their history serves as a reminder of the ongoing struggle for indigenous rights and the importance of preserving and respecting indigenous cultures in the caribbean and beyond.',\n",
       "  1]]"
      ]
     },
     "execution_count": 25,
     "metadata": {},
     "output_type": "execute_result"
    }
   ],
   "source": [
    "dataset_GPT = []\n",
    "for i in range(len(GPT_text)):\n",
    "    sentence = GPT_text[i]\n",
    "    if sentence == None:\n",
    "        continue\n",
    "    sentence = format_sentence(sentence)\n",
    "    dataset_GPT.append([sentence, 1])\n",
    "\n",
    "print('dataset size: ', len(dataset_GPT))\n",
    "dataset_GPT[:5]"
   ]
  },
  {
   "cell_type": "code",
   "execution_count": 46,
   "metadata": {},
   "outputs": [
    {
     "name": "stdout",
     "output_type": "stream",
     "text": [
      "dataset size:  1500\n"
     ]
    },
    {
     "data": {
      "text/plain": [
       "[['long haired businessmen is a comedy series produced by funny or die, acquired by amazon prime in 2018. the show follows seth (george kareman), kyle (pat o’brien), and kevin (ben wietmarschen), \"team leaders\" at an unnamed corporation, conducting unknown business. through them, we are exposed to the inane world of corporate ineptitude and business speak, which is the show\\'s central theme. in keeping with the absurd dynamic, the bouffant hairpieces are neither explained, nor even acknowledged. according to thrillist\\'s dave infante, this visual gag reflects the tenor of the show itself – divorced from distinguishing context and unburdened by likable characters. long haired businessmen is able to ruthlessly lampoon the infuriating and intangible purposelessness and hypocrisy of corporate culture. its characters speak in non-stop buzzwords and cliches, and while the dialogue occasionally touches on their personal lives, this mostly serves to underline an absence of self-awareness, and detachment from the world at large. long haired businessmen has featured cameos by will ferrell, will forte, j.k. simmons, and j mascis.',\n",
       "  0],\n",
       " ['edward \"duke\" groner (march 24, 1908 – november 7, 1992) was an american jazz bassist and vocalist. groner played the bass and piano and variously worked with nat towles, jimmie lunceford and horace henderson. life and career groner was born in ardmore, oklahoma, united states, to a musical family, and began on violin as a child but quickly gave it up in favor of piano. he attended wiley college, where he sang in college music organizations, then joined the band of nat towles upon graduation. he worked with towles for several years before branching off with several of towles\\'s other sidemen to play in new york city with horace henderson at the apollo theater and the savoy ballroom; after the engagements were up, henderson promptly fired the entire ensemble. unlike most of henderson\\'s band, groner sought to avoid being rehired by towles, and remained in new york to become one of the house singers at minton\\'s playhouse; betty roche was the other. this allowed him to work alongside kenny clarke and thelonious monk in the minton\\'s house band.',\n",
       "  0],\n",
       " ['\"final song\" is a song by danish singer and songwriter mø. it was released on 13 may 2016 for her second studio album, forever neverland, but was only included on the japanese release of the album. the song was written and composed by mø and noonie bao alongside mnek, who produced the song. \"final song\" was released by chess club and rca victor and premiered on bbc radio 1 on 12 may 2016 at 7:00 pm bst at annie mac. it was released on youtube the same day and on itunes store the following day. it reached the top 5 in denmark, the top 20 in australia, norway and the united kingdom, and the top 100 in canada and sweden. background and release the song was written by mø, mnek and noonie bao in los angeles in 2016. mø sent a rough version of the song to mnek with the changes she wanted to see, asking him to \"make it a little lighter\". the two later worked on it together, which ended being \"dope\" according to mnek. mø said of the song is \"about reconnecting with your inner strength. with your inner glow, passion, spirit animal, whatever – the force that keeps us going and doing what we love. [...] we all need to feel empowered from within to be the best version of ourself, but it’s not always easy and that’s what inspired me to write these lyrics. when you’re united with your inner glow you can beat the fears and fly towards your dreams.\"',\n",
       "  0],\n",
       " ['paul francis gadd (born 8 may 1944), known professionally as gary glitter, is an english former glam rock singer who achieved success in the 1970s and 1980s. his career ended after he was imprisoned for downloading child pornography in 1999, and was subsequently convicted of child sexual abuse and attempted rape, in 2006 and 2015, respectively. after performing under the name paul raven in the 1960s, he changed his stage name to gary glitter in the glam rock era of the early 1970s, with a sustained solo uk chart run of hits including \"rock and roll, parts 1 and 2\", \"do you wanna touch me\", \"i love you love me love\", \"i\\'m the leader of the gang (i am)\", and \"hello, hello, i\\'m back again\".  he became known for his extreme glam image of glitter suits, make-up and platform boots, and his energetic live performances. he sold over 20 million records, had 26 hit singles which spent a total of 180 weeks in the uk singles chart; twelve reaching the top 10, with three charting at number-one. he is listed in the top 100 uk most successful chart acts.  glitter\\'s popularity waned in the late 1970s, followed by a successful comeback as a solo artist again from the 1980s. his 1984 song \"another rock and roll christmas\" is one of the most played christmas hits of all time. in 1998, his recording of \"rock and roll\" was listed as one of the top 1,001 songs in music history. glitter also released seven studio albums, and at least fifteen compilation or live albums.',\n",
       "  0],\n",
       " ['the kalinago, also known as the island caribs or simply caribs, are an indigenous people of the lesser antilles in the caribbean. they may have been related to the mainland caribs (kalina) of south america, but they spoke an unrelated language known as island carib. they also spoke a pidgin language associated with the mainland caribs. at the time of spanish contact, the kalinago were one of the dominant groups in the caribbean, which owes its name to them. they lived throughout northeastern south america, trinidad and tobago, barbados, the windward islands, dominica, and possibly the southern leeward islands. historically, it was thought their ancestors were mainland peoples who had conquered the islands from their previous inhabitants, the igneri. however, linguistic and archaeological evidence contradicts the notion of a mass emigration and conquest; the kalinago language appears not to have been cariban, but like that of their neighbors, the taíno. irving rouse and others suggest that a smaller group of mainland peoples migrated to the islands without displacing their inhabitants, eventually adopting the local language but retaining their traditions of a south american origin.',\n",
       "  0]]"
      ]
     },
     "execution_count": 46,
     "metadata": {},
     "output_type": "execute_result"
    }
   ],
   "source": [
    "origin_data = pickle.load(open('./dataset/origin_data_3000.pickle', 'rb'))\n",
    "\n",
    "dataset_human = []\n",
    "for i in range(len(origin_data)):\n",
    "    sentence = origin_data[i]['wiki_intro']\n",
    "    if sentence == None:\n",
    "        continue\n",
    "    sentence = format_sentence(sentence)\n",
    "    dataset_human.append([sentence, 0])\n",
    "\n",
    "print('dataset size: ', len(dataset_human))\n",
    "dataset_human[:5]"
   ]
  },
  {
   "cell_type": "code",
   "execution_count": 53,
   "metadata": {},
   "outputs": [
    {
     "data": {
      "text/html": [
       "<div>\n",
       "<style scoped>\n",
       "    .dataframe tbody tr th:only-of-type {\n",
       "        vertical-align: middle;\n",
       "    }\n",
       "\n",
       "    .dataframe tbody tr th {\n",
       "        vertical-align: top;\n",
       "    }\n",
       "\n",
       "    .dataframe thead th {\n",
       "        text-align: right;\n",
       "    }\n",
       "</style>\n",
       "<table border=\"1\" class=\"dataframe\">\n",
       "  <thead>\n",
       "    <tr style=\"text-align: right;\">\n",
       "      <th></th>\n",
       "      <th>text</th>\n",
       "      <th>label</th>\n",
       "    </tr>\n",
       "  </thead>\n",
       "  <tbody>\n",
       "    <tr>\n",
       "      <th>0</th>\n",
       "      <td>fighter aircraft that was developed and used d...</td>\n",
       "      <td>1</td>\n",
       "    </tr>\n",
       "    <tr>\n",
       "      <th>1</th>\n",
       "      <td>located in the brooks range of northern alaska...</td>\n",
       "      <td>1</td>\n",
       "    </tr>\n",
       "    <tr>\n",
       "      <th>2</th>\n",
       "      <td>gonfaloniere of justice  was a post in the gov...</td>\n",
       "      <td>0</td>\n",
       "    </tr>\n",
       "    <tr>\n",
       "      <th>3</th>\n",
       "      <td>sauvey castle is a medieval castle, near withc...</td>\n",
       "      <td>0</td>\n",
       "    </tr>\n",
       "    <tr>\n",
       "      <th>4</th>\n",
       "      <td>the swett–ilsley house (c. 1670) is a much ext...</td>\n",
       "      <td>0</td>\n",
       "    </tr>\n",
       "  </tbody>\n",
       "</table>\n",
       "</div>"
      ],
      "text/plain": [
       "                                                text  label\n",
       "0  fighter aircraft that was developed and used d...      1\n",
       "1  located in the brooks range of northern alaska...      1\n",
       "2  gonfaloniere of justice  was a post in the gov...      0\n",
       "3  sauvey castle is a medieval castle, near withc...      0\n",
       "4  the swett–ilsley house (c. 1670) is a much ext...      0"
      ]
     },
     "execution_count": 53,
     "metadata": {},
     "output_type": "execute_result"
    }
   ],
   "source": [
    "dataset =  dataset_human + dataset_GPT\n",
    "random.shuffle(dataset)\n",
    "dataset = pd.DataFrame(dataset, columns=['text', 'label'])\n",
    "dataset.head()"
   ]
  },
  {
   "cell_type": "code",
   "execution_count": 54,
   "metadata": {},
   "outputs": [],
   "source": [
    "with open('./dataset/text_3000_Turbo.pickle', 'wb') as f:\n",
    "    pickle.dump(dataset, f)\n",
    "    \n",
    "dataset_300 = dataset[:300]\n",
    "with open('./dataset/text_300_Turbo.pickle', 'wb') as f:\n",
    "    pickle.dump(dataset_300, f)"
   ]
  }
 ],
 "metadata": {
  "kernelspec": {
   "display_name": "NLP",
   "language": "python",
   "name": "python3"
  },
  "language_info": {
   "codemirror_mode": {
    "name": "ipython",
    "version": 3
   },
   "file_extension": ".py",
   "mimetype": "text/x-python",
   "name": "python",
   "nbconvert_exporter": "python",
   "pygments_lexer": "ipython3",
   "version": "3.11.5"
  },
  "orig_nbformat": 4
 },
 "nbformat": 4,
 "nbformat_minor": 2
}
