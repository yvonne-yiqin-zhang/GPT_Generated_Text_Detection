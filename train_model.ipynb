{
 "cells": [
  {
   "cell_type": "code",
   "execution_count": 76,
   "metadata": {},
   "outputs": [],
   "source": [
    "import pandas as pd\n",
    "\n",
    "from sklearn.linear_model import LogisticRegression, RidgeClassifier\n",
    "from sklearn.naive_bayes import GaussianNB\n",
    "from sklearn.ensemble import BaggingClassifier, RandomForestClassifier, AdaBoostClassifier, GradientBoostingClassifier\n",
    "from sklearn.neighbors import KNeighborsClassifier\n",
    "from sklearn.model_selection import cross_validate\n",
    "from sklearn import preprocessing\n",
    "from sklearn.model_selection import train_test_split\n",
    "from sklearn import svm\n",
    "from sklearn.pipeline import make_pipeline\n",
    "from sklearn.model_selection import GridSearchCV"
   ]
  },
  {
   "cell_type": "code",
   "execution_count": 2,
   "metadata": {},
   "outputs": [],
   "source": [
    "data = pd.read_pickle(r'./dataset/test_set_vector.pickle')"
   ]
  },
  {
   "cell_type": "code",
   "execution_count": 3,
   "metadata": {},
   "outputs": [],
   "source": [
    "def split_vector_to_columns(data):\n",
    "    col_names = ['feature'+str(i) for i in range(len(data.vector[0]))]\n",
    "    X = pd.DataFrame(data.vector.tolist(), columns=col_names)\n",
    "    return X, data.label.to_numpy()"
   ]
  },
  {
   "cell_type": "code",
   "execution_count": 4,
   "metadata": {},
   "outputs": [],
   "source": [
    "X, y = split_vector_to_columns(data)"
   ]
  },
  {
   "cell_type": "code",
   "execution_count": 105,
   "metadata": {},
   "outputs": [],
   "source": [
    "list_models_default_params = [svm.SVC(), RidgeClassifier(), GaussianNB(), BaggingClassifier(), AdaBoostClassifier(), RandomForestClassifier(), GradientBoostingClassifier(), KNeighborsClassifier()]\n",
    "scoring = {'accuracy': 'accuracy',\n",
    "        'f1_score': 'f1_weighted',\n",
    "        'precision': 'precision_weighted',\n",
    "        'recall': 'recall_weighted'}"
   ]
  },
  {
   "cell_type": "code",
   "execution_count": 99,
   "metadata": {},
   "outputs": [],
   "source": [
    "list_parameters = {svm.SVC.__name__: {},\n",
    "                RidgeClassifier.__name__: {'alpha': [0.01, 0.05, 0.1, 0.5, 1, 5]},\n",
    "                GaussianNB.__name__: {},\n",
    "                BaggingClassifier.__name__: {'n_estimators': [5,10,20]},\n",
    "                AdaBoostClassifier.__name__: {'n_estimators': [10,25,50,75], 'learning_rate': [0.1, 0.5, 1, 5]},\n",
    "                RandomForestClassifier.__name__: {},\n",
    "                GradientBoostingClassifier.__name__: {},\n",
    "                KNeighborsClassifier.__name__: {},}"
   ]
  },
  {
   "cell_type": "code",
   "execution_count": 70,
   "metadata": {},
   "outputs": [],
   "source": [
    "def compute_model_performance(list_models_GS, X, y, scoring, train=True):\n",
    "    \"\"\"\n",
    "    For each model in the list_models, compute validation score for all metrics in scoring\n",
    "    For each model, return the average cross validated score for each metric\n",
    "    \"\"\"\n",
    "    result = {}\n",
    "    idx_names = []\n",
    "    for model in list_models_GS:\n",
    "        idx_names.append(type(model).__name__)\n",
    "        scores = cross_validate(model, X, y, scoring=scoring, cv=5, return_train_score=train)\n",
    "        for key, _ in scores.items():\n",
    "            score = scores[key].mean()\n",
    "            if key not in result:\n",
    "                result[key] = [score]\n",
    "            else: \n",
    "                result[key].append(score)\n",
    "    return pd.DataFrame(result, index=idx_names)"
   ]
  },
  {
   "cell_type": "code",
   "execution_count": 100,
   "metadata": {},
   "outputs": [],
   "source": [
    "list_models = [RidgeClassifier, BaggingClassifier]\n",
    "def compute_GS(list_models, X, y, list_parameters, scoring = \"accuracy\", cv=5):\n",
    "    \"\"\"\n",
    "    For each model in list_models, perform grid search and return the model instance initiated with the best performing parameter based on scoring\n",
    "    \"\"\"\n",
    "    list_models_GS = []\n",
    "    for model in list_models:\n",
    "        params = list_parameters[model.__name__]\n",
    "        if params != {}:\n",
    "            p = compute_GS_one_model(model(), X, y, params, scoring=scoring, cv=cv)\n",
    "            model_GS = model(**p)\n",
    "        else:\n",
    "            model_GS = model()\n",
    "        list_models_GS.append(model_GS)\n",
    "    return list_models_GS\n",
    "\n",
    "def compute_GS_one_model(model, X, y, params, scoring = \"accuracy\", cv=5):\n",
    "    grid= GridSearchCV(model, params, scoring = scoring, cv=cv)\n",
    "    grid.fit(X, y)\n",
    "    return grid.best_params_"
   ]
  },
  {
   "cell_type": "code",
   "execution_count": 101,
   "metadata": {},
   "outputs": [
    {
     "name": "stderr",
     "output_type": "stream",
     "text": [
      "/Users/yyz/Desktop/myproject/gpt_speech_detection_./venv/lib/python3.8/site-packages/sklearn/linear_model/_ridge.py:216: LinAlgWarning: Ill-conditioned matrix (rcond=5.84405e-08): result may not be accurate.\n",
      "  return linalg.solve(A, Xy, assume_a=\"pos\", overwrite_a=True).T\n",
      "/Users/yyz/Desktop/myproject/gpt_speech_detection_./venv/lib/python3.8/site-packages/sklearn/linear_model/_ridge.py:216: LinAlgWarning: Ill-conditioned matrix (rcond=5.80208e-08): result may not be accurate.\n",
      "  return linalg.solve(A, Xy, assume_a=\"pos\", overwrite_a=True).T\n",
      "/Users/yyz/Desktop/myproject/gpt_speech_detection_./venv/lib/python3.8/site-packages/sklearn/linear_model/_ridge.py:216: LinAlgWarning: Ill-conditioned matrix (rcond=5.86875e-08): result may not be accurate.\n",
      "  return linalg.solve(A, Xy, assume_a=\"pos\", overwrite_a=True).T\n"
     ]
    }
   ],
   "source": [
    "list_models_GS = compute_GS(list_models, X, y, list_parameters)"
   ]
  },
  {
   "cell_type": "code",
   "execution_count": 106,
   "metadata": {},
   "outputs": [
    {
     "name": "stderr",
     "output_type": "stream",
     "text": [
      "/Users/yyz/Desktop/myproject/gpt_speech_detection_./venv/lib/python3.8/site-packages/threadpoolctl.py:1019: RuntimeWarning: libc not found. The ctypes module in Python 3.8 is maybe too old for this OS.\n",
      "  warnings.warn(\n"
     ]
    }
   ],
   "source": [
    "r = compute_model_performance(list_models_default_params, X, y, scoring, False)"
   ]
  },
  {
   "cell_type": "code",
   "execution_count": 107,
   "metadata": {},
   "outputs": [
    {
     "data": {
      "text/html": [
       "<div>\n",
       "<style scoped>\n",
       "    .dataframe tbody tr th:only-of-type {\n",
       "        vertical-align: middle;\n",
       "    }\n",
       "\n",
       "    .dataframe tbody tr th {\n",
       "        vertical-align: top;\n",
       "    }\n",
       "\n",
       "    .dataframe thead th {\n",
       "        text-align: right;\n",
       "    }\n",
       "</style>\n",
       "<table border=\"1\" class=\"dataframe\">\n",
       "  <thead>\n",
       "    <tr style=\"text-align: right;\">\n",
       "      <th></th>\n",
       "      <th>fit_time</th>\n",
       "      <th>score_time</th>\n",
       "      <th>test_accuracy</th>\n",
       "      <th>test_f1_score</th>\n",
       "      <th>test_precision</th>\n",
       "      <th>test_recall</th>\n",
       "    </tr>\n",
       "  </thead>\n",
       "  <tbody>\n",
       "    <tr>\n",
       "      <th>SVC</th>\n",
       "      <td>3.097833</td>\n",
       "      <td>0.859350</td>\n",
       "      <td>0.815667</td>\n",
       "      <td>0.815527</td>\n",
       "      <td>0.816385</td>\n",
       "      <td>0.815667</td>\n",
       "    </tr>\n",
       "    <tr>\n",
       "      <th>RidgeClassifier</th>\n",
       "      <td>0.069549</td>\n",
       "      <td>0.017782</td>\n",
       "      <td>0.860667</td>\n",
       "      <td>0.860620</td>\n",
       "      <td>0.861034</td>\n",
       "      <td>0.860667</td>\n",
       "    </tr>\n",
       "    <tr>\n",
       "      <th>GaussianNB</th>\n",
       "      <td>0.031450</td>\n",
       "      <td>0.020432</td>\n",
       "      <td>0.677000</td>\n",
       "      <td>0.676525</td>\n",
       "      <td>0.678399</td>\n",
       "      <td>0.677000</td>\n",
       "    </tr>\n",
       "    <tr>\n",
       "      <th>BaggingClassifier</th>\n",
       "      <td>17.091623</td>\n",
       "      <td>0.021128</td>\n",
       "      <td>0.685667</td>\n",
       "      <td>0.684003</td>\n",
       "      <td>0.690434</td>\n",
       "      <td>0.685667</td>\n",
       "    </tr>\n",
       "    <tr>\n",
       "      <th>AdaBoostClassifier</th>\n",
       "      <td>13.793446</td>\n",
       "      <td>0.039683</td>\n",
       "      <td>0.724667</td>\n",
       "      <td>0.724596</td>\n",
       "      <td>0.724939</td>\n",
       "      <td>0.724667</td>\n",
       "    </tr>\n",
       "    <tr>\n",
       "      <th>RandomForestClassifier</th>\n",
       "      <td>6.377140</td>\n",
       "      <td>0.037848</td>\n",
       "      <td>0.738667</td>\n",
       "      <td>0.738522</td>\n",
       "      <td>0.739269</td>\n",
       "      <td>0.738667</td>\n",
       "    </tr>\n",
       "    <tr>\n",
       "      <th>GradientBoostingClassifier</th>\n",
       "      <td>79.242125</td>\n",
       "      <td>0.019601</td>\n",
       "      <td>0.760000</td>\n",
       "      <td>0.759875</td>\n",
       "      <td>0.760452</td>\n",
       "      <td>0.760000</td>\n",
       "    </tr>\n",
       "    <tr>\n",
       "      <th>KNeighborsClassifier</th>\n",
       "      <td>0.026877</td>\n",
       "      <td>0.167947</td>\n",
       "      <td>0.640667</td>\n",
       "      <td>0.638894</td>\n",
       "      <td>0.644100</td>\n",
       "      <td>0.640667</td>\n",
       "    </tr>\n",
       "  </tbody>\n",
       "</table>\n",
       "</div>"
      ],
      "text/plain": [
       "                             fit_time  score_time  test_accuracy  \\\n",
       "SVC                          3.097833    0.859350       0.815667   \n",
       "RidgeClassifier              0.069549    0.017782       0.860667   \n",
       "GaussianNB                   0.031450    0.020432       0.677000   \n",
       "BaggingClassifier           17.091623    0.021128       0.685667   \n",
       "AdaBoostClassifier          13.793446    0.039683       0.724667   \n",
       "RandomForestClassifier       6.377140    0.037848       0.738667   \n",
       "GradientBoostingClassifier  79.242125    0.019601       0.760000   \n",
       "KNeighborsClassifier         0.026877    0.167947       0.640667   \n",
       "\n",
       "                            test_f1_score  test_precision  test_recall  \n",
       "SVC                              0.815527        0.816385     0.815667  \n",
       "RidgeClassifier                  0.860620        0.861034     0.860667  \n",
       "GaussianNB                       0.676525        0.678399     0.677000  \n",
       "BaggingClassifier                0.684003        0.690434     0.685667  \n",
       "AdaBoostClassifier               0.724596        0.724939     0.724667  \n",
       "RandomForestClassifier           0.738522        0.739269     0.738667  \n",
       "GradientBoostingClassifier       0.759875        0.760452     0.760000  \n",
       "KNeighborsClassifier             0.638894        0.644100     0.640667  "
      ]
     },
     "execution_count": 107,
     "metadata": {},
     "output_type": "execute_result"
    }
   ],
   "source": [
    "r"
   ]
  },
  {
   "cell_type": "code",
   "execution_count": null,
   "metadata": {},
   "outputs": [],
   "source": []
  }
 ],
 "metadata": {
  "kernelspec": {
   "display_name": "venv",
   "language": "python",
   "name": "python3"
  },
  "language_info": {
   "codemirror_mode": {
    "name": "ipython",
    "version": 3
   },
   "file_extension": ".py",
   "mimetype": "text/x-python",
   "name": "python",
   "nbconvert_exporter": "python",
   "pygments_lexer": "ipython3",
   "version": "3.8.3"
  },
  "orig_nbformat": 4,
  "vscode": {
   "interpreter": {
    "hash": "de891f2c564194911e369d0466d8269f0965ccdb3d788d267c2be370afd70219"
   }
  }
 },
 "nbformat": 4,
 "nbformat_minor": 2
}
