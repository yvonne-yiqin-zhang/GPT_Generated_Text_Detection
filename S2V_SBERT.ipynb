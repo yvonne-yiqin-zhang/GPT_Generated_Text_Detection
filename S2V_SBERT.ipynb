{
 "cells": [
  {
   "cell_type": "code",
   "execution_count": 6,
   "metadata": {},
   "outputs": [
    {
     "name": "stderr",
     "output_type": "stream",
     "text": [
      "c:\\Users\\linan\\.conda\\envs\\NLP\\Lib\\site-packages\\tqdm\\auto.py:21: TqdmWarning: IProgress not found. Please update jupyter and ipywidgets. See https://ipywidgets.readthedocs.io/en/stable/user_install.html\n",
      "  from .autonotebook import tqdm as notebook_tqdm\n"
     ]
    }
   ],
   "source": [
    "import pickle\n",
    "import pandas as pd\n",
    "import numpy as np\n",
    "\n",
    "# https://sbert.net/\n",
    "from sentence_transformers import SentenceTransformer"
   ]
  },
  {
   "cell_type": "code",
   "execution_count": 7,
   "metadata": {},
   "outputs": [
    {
     "name": "stdout",
     "output_type": "stream",
     "text": [
      "train set size:  2700\n",
      "test set size:  300\n"
     ]
    }
   ],
   "source": [
    "train_set = pd.read_csv('./dataset/train_set.csv')\n",
    "test_set = pd.read_csv('./dataset/test_set.csv')\n",
    "\n",
    "print('train set size: ', len(train_set))\n",
    "print('test set size: ', len(test_set))"
   ]
  },
  {
   "cell_type": "code",
   "execution_count": 12,
   "metadata": {},
   "outputs": [],
   "source": [
    "def vectorize(dataset):\n",
    "    vector_set = pd.DataFrame(columns=['vector', 'label'], index=range(len(dataset)))\n",
    "    vectorizer = SentenceTransformer('all-MiniLM-L6-v2')\n",
    "    text_list = list(dataset['text'])\n",
    "    vectors = vectorizer.encode(text_list)\n",
    "    vector_set['vector'] = list(vectors)\n",
    "    vector_set['label'] = list(dataset['label'])\n",
    "    return vector_set"
   ]
  },
  {
   "cell_type": "code",
   "execution_count": 13,
   "metadata": {},
   "outputs": [],
   "source": [
    "train_set_vector = vectorize(train_set)\n",
    "with open('./dataset/train_set_vector_sbert.pickle', 'wb') as f:\n",
    "    pickle.dump(train_set_vector, f)"
   ]
  },
  {
   "cell_type": "code",
   "execution_count": 14,
   "metadata": {},
   "outputs": [],
   "source": [
    "test_set_vector = vectorize(test_set)\n",
    "with open('./dataset/test_set_vector_sbert.pickle', 'wb') as f:\n",
    "    pickle.dump(test_set_vector, f)"
   ]
  },
  {
   "cell_type": "markdown",
   "metadata": {},
   "source": [
    "# Read from pickle"
   ]
  },
  {
   "cell_type": "code",
   "execution_count": 15,
   "metadata": {},
   "outputs": [
    {
     "name": "stdout",
     "output_type": "stream",
     "text": [
      "train set size:  2700\n",
      "test set size:  300\n",
      "train set vector size:  384\n",
      "test set vector size:  384\n"
     ]
    }
   ],
   "source": [
    "train_set_vector = pd.read_pickle('./dataset/train_set_vector_sbert.pickle')\n",
    "test_set_vector = pd.read_pickle('./dataset/test_set_vector_sbert.pickle')\n",
    "\n",
    "print('train set size: ', len(train_set_vector))\n",
    "print('test set size: ', len(test_set_vector))\n",
    "\n",
    "print('train set vector size: ', len(train_set_vector['vector'][0]))\n",
    "print('test set vector size: ', len(test_set_vector['vector'][0]))"
   ]
  },
  {
   "cell_type": "code",
   "execution_count": 16,
   "metadata": {},
   "outputs": [
    {
     "data": {
      "text/html": [
       "<div>\n",
       "<style scoped>\n",
       "    .dataframe tbody tr th:only-of-type {\n",
       "        vertical-align: middle;\n",
       "    }\n",
       "\n",
       "    .dataframe tbody tr th {\n",
       "        vertical-align: top;\n",
       "    }\n",
       "\n",
       "    .dataframe thead th {\n",
       "        text-align: right;\n",
       "    }\n",
       "</style>\n",
       "<table border=\"1\" class=\"dataframe\">\n",
       "  <thead>\n",
       "    <tr style=\"text-align: right;\">\n",
       "      <th></th>\n",
       "      <th>vector</th>\n",
       "      <th>label</th>\n",
       "    </tr>\n",
       "  </thead>\n",
       "  <tbody>\n",
       "    <tr>\n",
       "      <th>0</th>\n",
       "      <td>[0.016947543, -0.018944716, -0.005260656, 0.01...</td>\n",
       "      <td>0</td>\n",
       "    </tr>\n",
       "    <tr>\n",
       "      <th>1</th>\n",
       "      <td>[0.012310029, -0.071729496, -0.048605766, -0.0...</td>\n",
       "      <td>1</td>\n",
       "    </tr>\n",
       "    <tr>\n",
       "      <th>2</th>\n",
       "      <td>[-0.12610832, 0.023480115, -0.08505785, 0.0578...</td>\n",
       "      <td>1</td>\n",
       "    </tr>\n",
       "    <tr>\n",
       "      <th>3</th>\n",
       "      <td>[-0.087798685, -0.037864905, -0.01982061, 0.03...</td>\n",
       "      <td>0</td>\n",
       "    </tr>\n",
       "    <tr>\n",
       "      <th>4</th>\n",
       "      <td>[0.057130102, -0.0924568, -0.007172761, 0.0710...</td>\n",
       "      <td>0</td>\n",
       "    </tr>\n",
       "  </tbody>\n",
       "</table>\n",
       "</div>"
      ],
      "text/plain": [
       "                                              vector  label\n",
       "0  [0.016947543, -0.018944716, -0.005260656, 0.01...      0\n",
       "1  [0.012310029, -0.071729496, -0.048605766, -0.0...      1\n",
       "2  [-0.12610832, 0.023480115, -0.08505785, 0.0578...      1\n",
       "3  [-0.087798685, -0.037864905, -0.01982061, 0.03...      0\n",
       "4  [0.057130102, -0.0924568, -0.007172761, 0.0710...      0"
      ]
     },
     "execution_count": 16,
     "metadata": {},
     "output_type": "execute_result"
    }
   ],
   "source": [
    "train_set_vector.head()"
   ]
  },
  {
   "cell_type": "code",
   "execution_count": 17,
   "metadata": {},
   "outputs": [
    {
     "data": {
      "text/plain": [
       "384"
      ]
     },
     "execution_count": 17,
     "metadata": {},
     "output_type": "execute_result"
    }
   ],
   "source": [
    "len(train_set_vector['vector'][0])"
   ]
  }
 ],
 "metadata": {
  "kernelspec": {
   "display_name": "NLP",
   "language": "python",
   "name": "python3"
  },
  "language_info": {
   "codemirror_mode": {
    "name": "ipython",
    "version": 3
   },
   "file_extension": ".py",
   "mimetype": "text/x-python",
   "name": "python",
   "nbconvert_exporter": "python",
   "pygments_lexer": "ipython3",
   "version": "3.11.5"
  }
 },
 "nbformat": 4,
 "nbformat_minor": 2
}
