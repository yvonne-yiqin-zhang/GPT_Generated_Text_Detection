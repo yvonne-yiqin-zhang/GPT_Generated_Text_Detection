{
 "cells": [
  {
   "cell_type": "code",
   "execution_count": 2,
   "metadata": {},
   "outputs": [],
   "source": [
    "import pandas as pd\n"
   ]
  },
  {
   "cell_type": "code",
   "execution_count": 3,
   "metadata": {},
   "outputs": [],
   "source": [
    "origin_data = pd.read_pickle('./dataset/text_3000.pickle')\n",
    "# test_dataset = origin_data.sample(n=30)"
   ]
  },
  {
   "cell_type": "code",
   "execution_count": 11,
   "metadata": {},
   "outputs": [
    {
     "data": {
      "text/html": [
       "<div>\n",
       "<style scoped>\n",
       "    .dataframe tbody tr th:only-of-type {\n",
       "        vertical-align: middle;\n",
       "    }\n",
       "\n",
       "    .dataframe tbody tr th {\n",
       "        vertical-align: top;\n",
       "    }\n",
       "\n",
       "    .dataframe thead th {\n",
       "        text-align: right;\n",
       "    }\n",
       "</style>\n",
       "<table border=\"1\" class=\"dataframe\">\n",
       "  <thead>\n",
       "    <tr style=\"text-align: right;\">\n",
       "      <th></th>\n",
       "      <th>text</th>\n",
       "      <th>label</th>\n",
       "    </tr>\n",
       "  </thead>\n",
       "  <tbody>\n",
       "    <tr>\n",
       "      <th>0</th>\n",
       "      <td>\"logic of empire\" is a science fiction novel b...</td>\n",
       "      <td>1</td>\n",
       "    </tr>\n",
       "    <tr>\n",
       "      <th>1</th>\n",
       "      <td>major general richard hutton davies,  (14 nove...</td>\n",
       "      <td>1</td>\n",
       "    </tr>\n",
       "    <tr>\n",
       "      <th>2</th>\n",
       "      <td>elgin reptiles is the name given to a group of...</td>\n",
       "      <td>1</td>\n",
       "    </tr>\n",
       "    <tr>\n",
       "      <th>3</th>\n",
       "      <td>dubgaill and finngaill, or dubgenti and finnge...</td>\n",
       "      <td>0</td>\n",
       "    </tr>\n",
       "    <tr>\n",
       "      <th>4</th>\n",
       "      <td>chang teh-ming (; born 1938) is a taiwanese ph...</td>\n",
       "      <td>1</td>\n",
       "    </tr>\n",
       "    <tr>\n",
       "      <th>...</th>\n",
       "      <td>...</td>\n",
       "      <td>...</td>\n",
       "    </tr>\n",
       "    <tr>\n",
       "      <th>2995</th>\n",
       "      <td>sonoluminescence is a phenomenon that occurs w...</td>\n",
       "      <td>0</td>\n",
       "    </tr>\n",
       "    <tr>\n",
       "      <th>2996</th>\n",
       "      <td>we faw down is a silent short film created by ...</td>\n",
       "      <td>1</td>\n",
       "    </tr>\n",
       "    <tr>\n",
       "      <th>2997</th>\n",
       "      <td>the sir robert rede's lecturer is an honorary ...</td>\n",
       "      <td>1</td>\n",
       "    </tr>\n",
       "    <tr>\n",
       "      <th>2998</th>\n",
       "      <td>philip astley (8 january 1742 – 20 october 181...</td>\n",
       "      <td>1</td>\n",
       "    </tr>\n",
       "    <tr>\n",
       "      <th>2999</th>\n",
       "      <td>pelikan is a group in turkey, which manufactur...</td>\n",
       "      <td>1</td>\n",
       "    </tr>\n",
       "  </tbody>\n",
       "</table>\n",
       "<p>3000 rows × 2 columns</p>\n",
       "</div>"
      ],
      "text/plain": [
       "                                                   text  label\n",
       "0     \"logic of empire\" is a science fiction novel b...      1\n",
       "1     major general richard hutton davies,  (14 nove...      1\n",
       "2     elgin reptiles is the name given to a group of...      1\n",
       "3     dubgaill and finngaill, or dubgenti and finnge...      0\n",
       "4     chang teh-ming (; born 1938) is a taiwanese ph...      1\n",
       "...                                                 ...    ...\n",
       "2995  sonoluminescence is a phenomenon that occurs w...      0\n",
       "2996  we faw down is a silent short film created by ...      1\n",
       "2997  the sir robert rede's lecturer is an honorary ...      1\n",
       "2998  philip astley (8 january 1742 – 20 october 181...      1\n",
       "2999  pelikan is a group in turkey, which manufactur...      1\n",
       "\n",
       "[3000 rows x 2 columns]"
      ]
     },
     "execution_count": 11,
     "metadata": {},
     "output_type": "execute_result"
    }
   ],
   "source": [
    "origin_data"
   ]
  },
  {
   "cell_type": "code",
   "execution_count": 9,
   "metadata": {},
   "outputs": [
    {
     "data": {
      "text/plain": [
       "Index([1210, 1775, 1492, 1366, 1530, 2428, 1382, 1708, 2019, 2712, 2514,  582,\n",
       "       1494, 2575,  381,  404, 1606, 2927, 2177, 2598, 1293,  925, 2389, 2995,\n",
       "        487, 1870, 2323, 2574, 1149, 2522],\n",
       "      dtype='int64')"
      ]
     },
     "execution_count": 9,
     "metadata": {},
     "output_type": "execute_result"
    }
   ],
   "source": [
    "test_dataset.index"
   ]
  },
  {
   "cell_type": "code",
   "execution_count": 8,
   "metadata": {},
   "outputs": [
    {
     "data": {
      "text/plain": [
       "'banknotes of scotland are the banknotes of the scottish government. they are issued by the bank of scotland, a commercial bank based in edinburgh.  the bank of scotland has been issuing banknotes in scotland since 1727. the first scottish banknotes were issued in denominations of £1, £2, £5 and £10. in 1826, the bank of scotland introduced notes in denominations of 20 £c. and 50 £c. in 1875, the bank of scotland introduced notes in denominations of 100 £c., 200 £c., 500 £c. and 1000 £c. in 1953, the bank of scotland issued notes in denominations of 1000 £s. and 5000 £s. in 1969, the bank of scotland introduced notes in denominations of 10, 20, 50 and 100 pence. the current series of banknotes is the scottish polymer note series, which was introduced in 2002.'"
      ]
     },
     "execution_count": 8,
     "metadata": {},
     "output_type": "execute_result"
    }
   ],
   "source": [
    "data.iloc[302].text"
   ]
  }
 ],
 "metadata": {
  "kernelspec": {
   "display_name": "my_venv",
   "language": "python",
   "name": "python3"
  },
  "language_info": {
   "codemirror_mode": {
    "name": "ipython",
    "version": 3
   },
   "file_extension": ".py",
   "mimetype": "text/x-python",
   "name": "python",
   "nbconvert_exporter": "python",
   "pygments_lexer": "ipython3",
   "version": "3.9.12"
  },
  "orig_nbformat": 4,
  "vscode": {
   "interpreter": {
    "hash": "e7e1a7645c9e7550cff4ad1cdd4021389dffaac36528ee9628f46d1518d3b88f"
   }
  }
 },
 "nbformat": 4,
 "nbformat_minor": 2
}
