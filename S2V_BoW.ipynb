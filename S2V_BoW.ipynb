{
 "cells": [
  {
   "cell_type": "markdown",
   "metadata": {},
   "source": [
    "# Bag of Words"
   ]
  },
  {
   "cell_type": "code",
   "execution_count": 1,
   "metadata": {},
   "outputs": [],
   "source": [
    "import pickle\n",
    "import pandas as pd\n",
    "import numpy as np\n",
    "from sklearn.feature_extraction.text import CountVectorizer"
   ]
  },
  {
   "cell_type": "code",
   "execution_count": 2,
   "metadata": {},
   "outputs": [
    {
     "name": "stdout",
     "output_type": "stream",
     "text": [
      "train set size:  2700\n",
      "test set size:  300\n"
     ]
    }
   ],
   "source": [
    "train_set = pd.read_csv('./dataset/train_set.csv')\n",
    "test_set = pd.read_csv('./dataset/test_set.csv')\n",
    "\n",
    "print('train set size: ', len(train_set))\n",
    "print('test set size: ', len(test_set))"
   ]
  },
  {
   "cell_type": "code",
   "execution_count": 3,
   "metadata": {},
   "outputs": [],
   "source": [
    "all_text = pd.concat([train_set['text'], test_set['text']], axis=0)\n",
    "all_text = all_text.reset_index(drop=True)"
   ]
  },
  {
   "cell_type": "code",
   "execution_count": 4,
   "metadata": {},
   "outputs": [
    {
     "name": "stdout",
     "output_type": "stream",
     "text": [
      "vocabulary size:  37155\n"
     ]
    }
   ],
   "source": [
    "vectorizer = CountVectorizer()\n",
    "vectorizer.fit(all_text)\n",
    "print('vocabulary size: ', len(vectorizer.vocabulary_))\n",
    "\n",
    "vector_train = vectorizer.transform(train_set['text'])\n",
    "vector_test = vectorizer.transform(test_set['text'])"
   ]
  },
  {
   "cell_type": "markdown",
   "metadata": {},
   "source": [
    "Too many words, the vector is too long, we only use the top 1000 words"
   ]
  },
  {
   "cell_type": "code",
   "execution_count": 8,
   "metadata": {},
   "outputs": [
    {
     "name": "stdout",
     "output_type": "stream",
     "text": [
      "vocabulary size:  3969\n"
     ]
    }
   ],
   "source": [
    "vectorizer = CountVectorizer(min_df=10) \n",
    "vectorizer.fit(all_text)\n",
    "print('vocabulary size: ', len(vectorizer.vocabulary_))\n",
    "\n",
    "vector_train = vectorizer.transform(train_set['text'])\n",
    "vector_test = vectorizer.transform(test_set['text'])"
   ]
  },
  {
   "cell_type": "code",
   "execution_count": 6,
   "metadata": {},
   "outputs": [],
   "source": [
    "train_set_vector = pd.DataFrame(columns=['vector', 'label'])\n",
    "train_set_vector['vector'] = list(vector_train.toarray())\n",
    "train_set_vector['label'] = train_set['label']\n",
    "\n",
    "test_set_vector = pd.DataFrame(columns=['vector', 'label'])\n",
    "test_set_vector['vector'] = list(vector_test.toarray())\n",
    "test_set_vector['label'] = test_set['label']"
   ]
  },
  {
   "cell_type": "code",
   "execution_count": 7,
   "metadata": {},
   "outputs": [],
   "source": [
    "train_set_vector.to_pickle('./dataset/train_set_vector_bow.pickle')\n",
    "test_set_vector.to_pickle('./dataset/test_set_vector_bow.pickle')"
   ]
  }
 ],
 "metadata": {
  "kernelspec": {
   "display_name": "NLP",
   "language": "python",
   "name": "python3"
  },
  "language_info": {
   "codemirror_mode": {
    "name": "ipython",
    "version": 3
   },
   "file_extension": ".py",
   "mimetype": "text/x-python",
   "name": "python",
   "nbconvert_exporter": "python",
   "pygments_lexer": "ipython3",
   "version": "3.11.5"
  }
 },
 "nbformat": 4,
 "nbformat_minor": 2
}
