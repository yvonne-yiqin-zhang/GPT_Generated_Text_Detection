{
 "cells": [
  {
   "cell_type": "code",
   "execution_count": 1,
   "metadata": {},
   "outputs": [
    {
     "name": "stderr",
     "output_type": "stream",
     "text": [
      "c:\\Users\\linan\\.conda\\envs\\NLP\\Lib\\site-packages\\tqdm\\auto.py:21: TqdmWarning: IProgress not found. Please update jupyter and ipywidgets. See https://ipywidgets.readthedocs.io/en/stable/user_install.html\n",
      "  from .autonotebook import tqdm as notebook_tqdm\n"
     ]
    }
   ],
   "source": [
    "import pickle\n",
    "import pandas as pd\n",
    "import numpy as np\n",
    "\n",
    "# https://pypi.org/project/sent2vec/\n",
    "from sent2vec.vectorizer import Vectorizer"
   ]
  },
  {
   "cell_type": "code",
   "execution_count": 2,
   "metadata": {},
   "outputs": [
    {
     "name": "stdout",
     "output_type": "stream",
     "text": [
      "train set size:  27000\n",
      "test set size:  3000\n"
     ]
    }
   ],
   "source": [
    "train_set = pd.read_csv('./dataset/train_set.csv')\n",
    "test_set = pd.read_csv('./dataset/test_set.csv')\n",
    "\n",
    "print('train set size: ', len(train_set))\n",
    "print('test set size: ', len(test_set))"
   ]
  },
  {
   "cell_type": "markdown",
   "metadata": {},
   "source": [
    "## For small dataset we run all text"
   ]
  },
  {
   "cell_type": "code",
   "execution_count": 4,
   "metadata": {},
   "outputs": [],
   "source": [
    "def vectorize_small(dataset):\n",
    "    vector_set = pd.DataFrame(columns=['vector', 'label'], index=range(len(dataset)))\n",
    "    vectorizer = Vectorizer(pretrained_weights='distilbert-base-uncased')\n",
    "    text_list = list(dataset['text'])\n",
    "    # Bert request, length of text no more than 512\n",
    "    for j in range(len(text_list)):\n",
    "        if len(text_list[j]) > 512:\n",
    "            text_list[j] = text_list[j][:512]\n",
    "    vectorizer.run(text_list)\n",
    "    vectors = vectorizer.vectors\n",
    "    vector_set['vector'] = list(vectors)\n",
    "    vector_set['label'] = list(dataset['label'])\n",
    "    return vector_set"
   ]
  },
  {
   "cell_type": "markdown",
   "metadata": {},
   "source": [
    "## For large dataset we run every 1000 text"
   ]
  },
  {
   "cell_type": "code",
   "execution_count": 5,
   "metadata": {},
   "outputs": [],
   "source": [
    "def vectorize_large(dataset, n=1000):\n",
    "    vector_set = pd.DataFrame(columns=['vector', 'label'], index=range(len(dataset)))\n",
    "    # for every n data, we run the vectorizer\n",
    "    for i in range(0, len(train_set), n):\n",
    "        if i+n > len(train_set):\n",
    "            end = len(train_set)\n",
    "        else:\n",
    "            end = i+n\n",
    "        vectorizer = Vectorizer(pretrained_weights='distilbert-base-uncased')\n",
    "        text_list = list(train_set['text'][i:end])\n",
    "        # Bert request, length of text no more than 512\n",
    "        for j in range(len(text_list)):\n",
    "            if len(text_list[j]) > 512:\n",
    "                text_list[j] = text_list[j][:512]\n",
    "        vectorizer.run(text_list)\n",
    "        vector_set['vector'][i:end] = vectorizer.vectors\n",
    "        vector_set['label'][i:end] = train_set['label'][i:end]\n",
    "    return vector_set"
   ]
  },
  {
   "cell_type": "code",
   "execution_count": 6,
   "metadata": {},
   "outputs": [
    {
     "name": "stdout",
     "output_type": "stream",
     "text": [
      "Initializing Bert distilbert-base-uncased\n",
      "Vectorization done on cpu\n"
     ]
    },
    {
     "name": "stderr",
     "output_type": "stream",
     "text": [
      "We strongly recommend passing in an `attention_mask` since your input_ids may be padded. See https://huggingface.co/docs/transformers/troubleshooting#incorrect-output-when-padding-tokens-arent-masked.\n"
     ]
    },
    {
     "name": "stdout",
     "output_type": "stream",
     "text": [
      "Initializing Bert distilbert-base-uncased\n",
      "Vectorization done on cpu\n",
      "Initializing Bert distilbert-base-uncased\n",
      "Vectorization done on cpu\n",
      "Initializing Bert distilbert-base-uncased\n",
      "Vectorization done on cpu\n",
      "Initializing Bert distilbert-base-uncased\n",
      "Vectorization done on cpu\n",
      "Initializing Bert distilbert-base-uncased\n",
      "Vectorization done on cpu\n",
      "Initializing Bert distilbert-base-uncased\n",
      "Vectorization done on cpu\n",
      "Initializing Bert distilbert-base-uncased\n",
      "Vectorization done on cpu\n",
      "Initializing Bert distilbert-base-uncased\n",
      "Vectorization done on cpu\n",
      "Initializing Bert distilbert-base-uncased\n",
      "Vectorization done on cpu\n",
      "Initializing Bert distilbert-base-uncased\n",
      "Vectorization done on cpu\n",
      "Initializing Bert distilbert-base-uncased\n",
      "Vectorization done on cpu\n",
      "Initializing Bert distilbert-base-uncased\n",
      "Vectorization done on cpu\n",
      "Initializing Bert distilbert-base-uncased\n",
      "Vectorization done on cpu\n",
      "Initializing Bert distilbert-base-uncased\n",
      "Vectorization done on cpu\n",
      "Initializing Bert distilbert-base-uncased\n",
      "Vectorization done on cpu\n",
      "Initializing Bert distilbert-base-uncased\n",
      "Vectorization done on cpu\n",
      "Initializing Bert distilbert-base-uncased\n",
      "Vectorization done on cpu\n",
      "Initializing Bert distilbert-base-uncased\n",
      "Vectorization done on cpu\n",
      "Initializing Bert distilbert-base-uncased\n",
      "Vectorization done on cpu\n",
      "Initializing Bert distilbert-base-uncased\n",
      "Vectorization done on cpu\n",
      "Initializing Bert distilbert-base-uncased\n",
      "Vectorization done on cpu\n",
      "Initializing Bert distilbert-base-uncased\n",
      "Vectorization done on cpu\n",
      "Initializing Bert distilbert-base-uncased\n",
      "Vectorization done on cpu\n",
      "Initializing Bert distilbert-base-uncased\n",
      "Vectorization done on cpu\n",
      "Initializing Bert distilbert-base-uncased\n",
      "Vectorization done on cpu\n",
      "Initializing Bert distilbert-base-uncased\n",
      "Vectorization done on cpu\n"
     ]
    }
   ],
   "source": [
    "# save the dataset for later use\n",
    "train_set_vector = vectorize_large(train_set)\n",
    "with open('./dataset/train_set_vector.pickle', 'wb') as f:\n",
    "    pickle.dump(train_set_vector, f)"
   ]
  },
  {
   "cell_type": "code",
   "execution_count": 7,
   "metadata": {},
   "outputs": [
    {
     "name": "stdout",
     "output_type": "stream",
     "text": [
      "Initializing Bert distilbert-base-uncased\n",
      "Vectorization done on cpu\n"
     ]
    }
   ],
   "source": [
    "test_set_vector = vectorize_small(test_set)\n",
    "with open('./dataset/test_set_vector.pickle', 'wb') as f:\n",
    "    pickle.dump(test_set_vector, f)"
   ]
  },
  {
   "cell_type": "markdown",
   "metadata": {},
   "source": [
    "# Read from pickle"
   ]
  },
  {
   "cell_type": "code",
   "execution_count": 8,
   "metadata": {},
   "outputs": [
    {
     "name": "stdout",
     "output_type": "stream",
     "text": [
      "train set size:  27000\n",
      "test set size:  3000\n",
      "train set vector size:  768\n",
      "test set vector size:  768\n"
     ]
    }
   ],
   "source": [
    "train_set_vector = pd.read_pickle('./dataset/train_set_vector.pickle')\n",
    "test_set_vector = pd.read_pickle('./dataset/test_set_vector.pickle')\n",
    "\n",
    "print('train set size: ', len(train_set_vector))\n",
    "print('test set size: ', len(test_set_vector))\n",
    "\n",
    "print('train set vector size: ', len(train_set_vector['vector'][0]))\n",
    "print('test set vector size: ', len(test_set_vector['vector'][0]))"
   ]
  }
 ],
 "metadata": {
  "kernelspec": {
   "display_name": "NLP",
   "language": "python",
   "name": "python3"
  },
  "language_info": {
   "codemirror_mode": {
    "name": "ipython",
    "version": 3
   },
   "file_extension": ".py",
   "mimetype": "text/x-python",
   "name": "python",
   "nbconvert_exporter": "python",
   "pygments_lexer": "ipython3",
   "version": "3.11.5"
  }
 },
 "nbformat": 4,
 "nbformat_minor": 2
}
