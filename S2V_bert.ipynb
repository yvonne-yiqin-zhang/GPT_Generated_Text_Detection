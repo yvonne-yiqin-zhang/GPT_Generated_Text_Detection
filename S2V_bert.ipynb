{
 "cells": [
  {
   "cell_type": "code",
   "execution_count": null,
   "metadata": {},
   "outputs": [],
   "source": [
    "import pickle\n",
    "import pandas as pd\n",
    "import numpy as np\n",
    "# https://pypi.org/project/sent2vec/\n",
    "from sent2vec.vectorizer import Vectorizer"
   ]
  },
  {
   "cell_type": "code",
   "execution_count": null,
   "metadata": {},
   "outputs": [],
   "source": [
    "train_set = pd.read_csv('./dataset/train_set.csv')\n",
    "test_set = pd.read_csv('./dataset/test_set.csv')\n",
    "\n",
    "print('train set size: ', len(train_set))\n",
    "print('test set size: ', len(test_set))"
   ]
  },
  {
   "cell_type": "markdown",
   "metadata": {},
   "source": [
    "## For small dataset we run all text"
   ]
  },
  {
   "cell_type": "code",
   "execution_count": null,
   "metadata": {},
   "outputs": [],
   "source": [
    "def vectorize_small(dataset):\n",
    "    vector_set = pd.DataFrame(columns=['vector', 'label'], index=range(len(dataset)))\n",
    "    vectorizer = Vectorizer(pretrained_weights='distilbert-base-uncased')\n",
    "    vectorizer.run(list(dataset['text']))\n",
    "    vectors = vectorizer.vectors\n",
    "    vector_set['vector'] = list(vectors)\n",
    "    vector_set['label'] = list(dataset['label'])\n",
    "    return vector_set"
   ]
  },
  {
   "cell_type": "markdown",
   "metadata": {},
   "source": [
    "## For large dataset we run every 1000 text"
   ]
  },
  {
   "cell_type": "code",
   "execution_count": null,
   "metadata": {},
   "outputs": [],
   "source": [
    "def vectorize_large(dataset, n=1000):\n",
    "    vector_set = pd.DataFrame(columns=['vector', 'label'], index=range(len(dataset)))\n",
    "    # for every n data, we run the vectorizer\n",
    "    for i in range(0, len(train_set), n):\n",
    "        if i+n > len(train_set):\n",
    "            end = len(train_set)\n",
    "        else:\n",
    "            end = i+n\n",
    "        vectorizer = Vectorizer(pretrained_weights='distilbert-base-uncased')\n",
    "        vectorizer.run(list(train_set['text'][i:end]))\n",
    "        vector_set['vector'][i:end] = vectorizer.vectors\n",
    "        vector_set['label'][i:end] = train_set['label'][i:end]\n",
    "    return vector_set"
   ]
  },
  {
   "cell_type": "code",
   "execution_count": null,
   "metadata": {},
   "outputs": [
    {
     "name": "stdout",
     "output_type": "stream",
     "text": [
      "Initializing Bert distilbert-base-uncased\n",
      "Vectorization done on cpu\n"
     ]
    },
    {
     "name": "stderr",
     "output_type": "stream",
     "text": [
      "We strongly recommend passing in an `attention_mask` since your input_ids may be padded. See https://huggingface.co/docs/transformers/troubleshooting#incorrect-output-when-padding-tokens-arent-masked.\n"
     ]
    },
    {
     "name": "stdout",
     "output_type": "stream",
     "text": [
      "Initializing Bert distilbert-base-uncased\n",
      "Vectorization done on cpu\n",
      "Initializing Bert distilbert-base-uncased\n",
      "Vectorization done on cpu\n",
      "Initializing Bert distilbert-base-uncased\n",
      "Vectorization done on cpu\n",
      "Initializing Bert distilbert-base-uncased\n",
      "Vectorization done on cpu\n",
      "Initializing Bert distilbert-base-uncased\n",
      "Vectorization done on cpu\n",
      "Initializing Bert distilbert-base-uncased\n",
      "Vectorization done on cpu\n",
      "Initializing Bert distilbert-base-uncased\n",
      "Vectorization done on cpu\n",
      "Initializing Bert distilbert-base-uncased\n",
      "Vectorization done on cpu\n",
      "Initializing Bert distilbert-base-uncased\n",
      "Vectorization done on cpu\n",
      "Initializing Bert distilbert-base-uncased\n",
      "Vectorization done on cpu\n",
      "Initializing Bert distilbert-base-uncased\n",
      "Vectorization done on cpu\n",
      "Initializing Bert distilbert-base-uncased\n",
      "Vectorization done on cpu\n",
      "Initializing Bert distilbert-base-uncased\n",
      "Vectorization done on cpu\n",
      "Initializing Bert distilbert-base-uncased\n",
      "Vectorization done on cpu\n",
      "Initializing Bert distilbert-base-uncased\n",
      "Vectorization done on cpu\n",
      "Initializing Bert distilbert-base-uncased\n",
      "Vectorization done on cpu\n",
      "Initializing Bert distilbert-base-uncased\n",
      "Vectorization done on cpu\n",
      "Initializing Bert distilbert-base-uncased\n",
      "Vectorization done on cpu\n",
      "Initializing Bert distilbert-base-uncased\n",
      "Vectorization done on cpu\n",
      "Initializing Bert distilbert-base-uncased\n",
      "Vectorization done on cpu\n",
      "Initializing Bert distilbert-base-uncased\n",
      "Vectorization done on cpu\n",
      "Initializing Bert distilbert-base-uncased\n",
      "Vectorization done on cpu\n",
      "Initializing Bert distilbert-base-uncased\n",
      "Vectorization done on cpu\n",
      "Initializing Bert distilbert-base-uncased\n",
      "Vectorization done on cpu\n",
      "Initializing Bert distilbert-base-uncased\n",
      "Vectorization done on cpu\n",
      "Initializing Bert distilbert-base-uncased\n",
      "Vectorization done on cpu\n"
     ]
    }
   ],
   "source": [
    "# save the dataset for later use\n",
    "train_set_vector = vectorize_large(train_set)\n",
    "with open('./dataset/train_set_vector.pickle', 'wb') as f:\n",
    "    pickle.dump(train_set_vector, f)"
   ]
  },
  {
   "cell_type": "code",
   "execution_count": null,
   "metadata": {},
   "outputs": [
    {
     "name": "stdout",
     "output_type": "stream",
     "text": [
      "Initializing Bert distilbert-base-uncased\n",
      "Vectorization done on cpu\n"
     ]
    },
    {
     "name": "stderr",
     "output_type": "stream",
     "text": [
      "We strongly recommend passing in an `attention_mask` since your input_ids may be padded. See https://huggingface.co/docs/transformers/troubleshooting#incorrect-output-when-padding-tokens-arent-masked.\n"
     ]
    }
   ],
   "source": [
    "test_set_vector = vectorize_small(test_set)\n",
    "with open('./dataset/test_set_vector.pickle', 'wb') as f:\n",
    "    pickle.dump(test_set_vector, f)"
   ]
  }
 ],
 "metadata": {
  "language_info": {
   "name": "python"
  }
 },
 "nbformat": 4,
 "nbformat_minor": 2
}
